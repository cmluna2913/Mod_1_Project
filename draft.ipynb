{
 "cells": [
  {
   "cell_type": "code",
   "execution_count": 1,
   "metadata": {},
   "outputs": [],
   "source": [
    "import pandas as pd\n",
    "import seaborn as sns\n",
    "import matplotlib.pyplot as plt\n",
    "import numpy as np"
   ]
  },
  {
   "cell_type": "code",
   "execution_count": 2,
   "metadata": {},
   "outputs": [],
   "source": [
    "title_basics = pd.read_csv('Data/title.basics.csv')"
   ]
  },
  {
   "cell_type": "code",
   "execution_count": 3,
   "metadata": {},
   "outputs": [],
   "source": [
    "title_basics.dropna(subset=['genres'],inplace=True)\n",
    "genre_counts = {}\n",
    "for genrelist in title_basics['genres']:\n",
    "    genrelist = genrelist.split(',')\n",
    "    for genre in genrelist:\n",
    "        if genre not in genre_counts:\n",
    "            genre_counts[genre] = 1\n",
    "        else:\n",
    "            genre_counts[genre] += 1"
   ]
  },
  {
   "cell_type": "code",
   "execution_count": 4,
   "metadata": {},
   "outputs": [],
   "source": [
    "sorted_genres = dict(sorted(genre_counts.items(), key=lambda x: x[1], reverse=True))"
   ]
  },
  {
   "cell_type": "code",
   "execution_count": 5,
   "metadata": {},
   "outputs": [],
   "source": [
    "import itertools\n",
    "top10 = dict(itertools.islice(sorted_genres.items(), 10)) \n",
    "top10genres = list(top10.keys())"
   ]
  },
  {
   "cell_type": "code",
   "execution_count": 6,
   "metadata": {},
   "outputs": [
    {
     "data": {
      "text/plain": [
       "{'Documentary': 51640,\n",
       " 'Drama': 49883,\n",
       " 'Comedy': 25312,\n",
       " 'Thriller': 11883,\n",
       " 'Horror': 10805,\n",
       " 'Action': 10335,\n",
       " 'Romance': 9372,\n",
       " 'Biography': 8722,\n",
       " 'Crime': 6753,\n",
       " 'Adventure': 6465}"
      ]
     },
     "execution_count": 6,
     "metadata": {},
     "output_type": "execute_result"
    }
   ],
   "source": [
    "top10"
   ]
  },
  {
   "cell_type": "code",
   "execution_count": 189,
   "metadata": {},
   "outputs": [
    {
     "data": {
      "image/png": "[encoded data removed]",
      "text/plain": [
       "<Figure size 432x288 with 1 Axes>"
      ]
     },
     "metadata": {
      "needs_background": "light"
     },
     "output_type": "display_data"
    }
   ],
   "source": [
    "sns.barplot(list(top10.values()), list(top10.keys()))\n",
    "plt.ylabel('Genre')\n",
    "plt.xlabel('Number of Movies Made')\n",
    "plt.title('Number of Movies Per Genre')\n",
    "plt.tight_layout()\n",
    "plt.gca().get_yticklabels()[1].set_color(\"red\")\n",
    "plt.gca().get_yticklabels()[2].set_color(\"red\")\n",
    "plt.gca().get_yticklabels()[5].set_color(\"red\")\n",
    "plt.savefig('top10genres.png')"
   ]
  },
  {
   "cell_type": "code",
   "execution_count": 287,
   "metadata": {},
   "outputs": [
    {
     "data": {
      "text/plain": [
       "11"
      ]
     },
     "execution_count": 287,
     "metadata": {},
     "output_type": "execute_result"
    }
   ],
   "source": [
    "len(top10.keys())"
   ]
  },
  {
   "cell_type": "code",
   "execution_count": 290,
   "metadata": {},
   "outputs": [
    {
     "ename": "ValueError",
     "evalue": "'explode' must be of length 'x'",
     "output_type": "error",
     "traceback": [
      "\u001b[1;31m---------------------------------------------------------------------------\u001b[0m",
      "\u001b[1;31mValueError\u001b[0m                                Traceback (most recent call last)",
      "\u001b[1;32m<ipython-input-290-816d80397cd7>\u001b[0m in \u001b[0;36m<module>\u001b[1;34m\u001b[0m\n\u001b[0;32m      5\u001b[0m \u001b[0mfig1\u001b[0m\u001b[1;33m,\u001b[0m \u001b[0max1\u001b[0m \u001b[1;33m=\u001b[0m \u001b[0mplt\u001b[0m\u001b[1;33m.\u001b[0m\u001b[0msubplots\u001b[0m\u001b[1;33m(\u001b[0m\u001b[1;33m)\u001b[0m\u001b[1;33m\u001b[0m\u001b[1;33m\u001b[0m\u001b[0m\n\u001b[0;32m      6\u001b[0m ax1.pie(sizes, explode=explode, labels=labels,\n\u001b[1;32m----> 7\u001b[1;33m         shadow=True)\n\u001b[0m\u001b[0;32m      8\u001b[0m \u001b[0max1\u001b[0m\u001b[1;33m.\u001b[0m\u001b[0maxis\u001b[0m\u001b[1;33m(\u001b[0m\u001b[1;34m'equal'\u001b[0m\u001b[1;33m)\u001b[0m  \u001b[1;31m# Equal aspect ratio ensures that pie is drawn as a circle.\u001b[0m\u001b[1;33m\u001b[0m\u001b[1;33m\u001b[0m\u001b[0m\n\u001b[0;32m      9\u001b[0m \u001b[0mplt\u001b[0m\u001b[1;33m.\u001b[0m\u001b[0mstyle\u001b[0m\u001b[1;33m.\u001b[0m\u001b[0muse\u001b[0m\u001b[1;33m(\u001b[0m\u001b[1;34m'seaborn-whitegrid'\u001b[0m\u001b[1;33m)\u001b[0m\u001b[1;33m\u001b[0m\u001b[1;33m\u001b[0m\u001b[0m\n",
      "\u001b[1;32mC:\\ProgramData\\Anaconda3\\lib\\site-packages\\matplotlib\\__init__.py\u001b[0m in \u001b[0;36minner\u001b[1;34m(ax, data, *args, **kwargs)\u001b[0m\n\u001b[0;32m   1599\u001b[0m     \u001b[1;32mdef\u001b[0m \u001b[0minner\u001b[0m\u001b[1;33m(\u001b[0m\u001b[0max\u001b[0m\u001b[1;33m,\u001b[0m \u001b[1;33m*\u001b[0m\u001b[0margs\u001b[0m\u001b[1;33m,\u001b[0m \u001b[0mdata\u001b[0m\u001b[1;33m=\u001b[0m\u001b[1;32mNone\u001b[0m\u001b[1;33m,\u001b[0m \u001b[1;33m**\u001b[0m\u001b[0mkwargs\u001b[0m\u001b[1;33m)\u001b[0m\u001b[1;33m:\u001b[0m\u001b[1;33m\u001b[0m\u001b[1;33m\u001b[0m\u001b[0m\n\u001b[0;32m   1600\u001b[0m         \u001b[1;32mif\u001b[0m \u001b[0mdata\u001b[0m \u001b[1;32mis\u001b[0m \u001b[1;32mNone\u001b[0m\u001b[1;33m:\u001b[0m\u001b[1;33m\u001b[0m\u001b[1;33m\u001b[0m\u001b[0m\n\u001b[1;32m-> 1601\u001b[1;33m             \u001b[1;32mreturn\u001b[0m \u001b[0mfunc\u001b[0m\u001b[1;33m(\u001b[0m\u001b[0max\u001b[0m\u001b[1;33m,\u001b[0m \u001b[1;33m*\u001b[0m\u001b[0mmap\u001b[0m\u001b[1;33m(\u001b[0m\u001b[0msanitize_sequence\u001b[0m\u001b[1;33m,\u001b[0m \u001b[0margs\u001b[0m\u001b[1;33m)\u001b[0m\u001b[1;33m,\u001b[0m \u001b[1;33m**\u001b[0m\u001b[0mkwargs\u001b[0m\u001b[1;33m)\u001b[0m\u001b[1;33m\u001b[0m\u001b[1;33m\u001b[0m\u001b[0m\n\u001b[0m\u001b[0;32m   1602\u001b[0m \u001b[1;33m\u001b[0m\u001b[0m\n\u001b[0;32m   1603\u001b[0m         \u001b[0mbound\u001b[0m \u001b[1;33m=\u001b[0m \u001b[0mnew_sig\u001b[0m\u001b[1;33m.\u001b[0m\u001b[0mbind\u001b[0m\u001b[1;33m(\u001b[0m\u001b[0max\u001b[0m\u001b[1;33m,\u001b[0m \u001b[1;33m*\u001b[0m\u001b[0margs\u001b[0m\u001b[1;33m,\u001b[0m \u001b[1;33m**\u001b[0m\u001b[0mkwargs\u001b[0m\u001b[1;33m)\u001b[0m\u001b[1;33m\u001b[0m\u001b[1;33m\u001b[0m\u001b[0m\n",
      "\u001b[1;32mC:\\ProgramData\\Anaconda3\\lib\\site-packages\\matplotlib\\axes\\_axes.py\u001b[0m in \u001b[0;36mpie\u001b[1;34m(self, x, explode, labels, colors, autopct, pctdistance, shadow, labeldistance, startangle, radius, counterclock, wedgeprops, textprops, center, frame, rotatelabels)\u001b[0m\n\u001b[0;32m   2983\u001b[0m             \u001b[1;32mraise\u001b[0m \u001b[0mValueError\u001b[0m\u001b[1;33m(\u001b[0m\u001b[1;34m\"'label' must be of length 'x'\"\u001b[0m\u001b[1;33m)\u001b[0m\u001b[1;33m\u001b[0m\u001b[1;33m\u001b[0m\u001b[0m\n\u001b[0;32m   2984\u001b[0m         \u001b[1;32mif\u001b[0m \u001b[0mlen\u001b[0m\u001b[1;33m(\u001b[0m\u001b[0mx\u001b[0m\u001b[1;33m)\u001b[0m \u001b[1;33m!=\u001b[0m \u001b[0mlen\u001b[0m\u001b[1;33m(\u001b[0m\u001b[0mexplode\u001b[0m\u001b[1;33m)\u001b[0m\u001b[1;33m:\u001b[0m\u001b[1;33m\u001b[0m\u001b[1;33m\u001b[0m\u001b[0m\n\u001b[1;32m-> 2985\u001b[1;33m             \u001b[1;32mraise\u001b[0m \u001b[0mValueError\u001b[0m\u001b[1;33m(\u001b[0m\u001b[1;34m\"'explode' must be of length 'x'\"\u001b[0m\u001b[1;33m)\u001b[0m\u001b[1;33m\u001b[0m\u001b[1;33m\u001b[0m\u001b[0m\n\u001b[0m\u001b[0;32m   2986\u001b[0m         \u001b[1;32mif\u001b[0m \u001b[0mcolors\u001b[0m \u001b[1;32mis\u001b[0m \u001b[1;32mNone\u001b[0m\u001b[1;33m:\u001b[0m\u001b[1;33m\u001b[0m\u001b[1;33m\u001b[0m\u001b[0m\n\u001b[0;32m   2987\u001b[0m             \u001b[0mget_next_color\u001b[0m \u001b[1;33m=\u001b[0m \u001b[0mself\u001b[0m\u001b[1;33m.\u001b[0m\u001b[0m_get_patches_for_fill\u001b[0m\u001b[1;33m.\u001b[0m\u001b[0mget_next_color\u001b[0m\u001b[1;33m\u001b[0m\u001b[1;33m\u001b[0m\u001b[0m\n",
      "\u001b[1;31mValueError\u001b[0m: 'explode' must be of length 'x'"
     ]
    },
    {
     "data": {
      "image/png": "[encoded data removed]",
      "text/plain": [
       "<Figure size 640x480 with 1 Axes>"
      ]
     },
     "metadata": {},
     "output_type": "display_data"
    }
   ],
   "source": [
    "labels = list(top10.keys())\n",
    "sizes = list(top10.values())\n",
    "explode = (0, 0.1, 0.1, 0, 0, 0.1, 0, 0, 0, 0)  # only \"explode\" the 2nd slice (i.e. 'Hogs')\n",
    "\n",
    "fig1, ax1 = plt.subplots()\n",
    "ax1.pie(sizes, explode=explode, labels=labels,\n",
    "        shadow=True)\n",
    "ax1.axis('equal')  # Equal aspect ratio ensures that pie is drawn as a circle.\n",
    "plt.style.use('seaborn-whitegrid')\n",
    "plt.savefig('genre_comparison.png')\n",
    "plt.show()"
   ]
  },
  {
   "cell_type": "code",
   "execution_count": 271,
   "metadata": {},
   "outputs": [
    {
     "data": {
      "text/html": [
       "<div>\n",
       "<style scoped>\n",
       "    .dataframe tbody tr th:only-of-type {\n",
       "        vertical-align: middle;\n",
       "    }\n",
       "\n",
       "    .dataframe tbody tr th {\n",
       "        vertical-align: top;\n",
       "    }\n",
       "\n",
       "    .dataframe thead th {\n",
       "        text-align: right;\n",
       "    }\n",
       "</style>\n",
       "<table border=\"1\" class=\"dataframe\">\n",
       "  <thead>\n",
       "    <tr style=\"text-align: right;\">\n",
       "      <th></th>\n",
       "      <th>id</th>\n",
       "      <th>synopsis</th>\n",
       "      <th>rating</th>\n",
       "      <th>genre</th>\n",
       "      <th>director</th>\n",
       "      <th>writer</th>\n",
       "      <th>theater_date</th>\n",
       "      <th>dvd_date</th>\n",
       "      <th>currency</th>\n",
       "      <th>box_office</th>\n",
       "      <th>runtime</th>\n",
       "      <th>studio</th>\n",
       "    </tr>\n",
       "  </thead>\n",
       "  <tbody>\n",
       "    <tr>\n",
       "      <td>0</td>\n",
       "      <td>1</td>\n",
       "      <td>This gritty, fast-paced, and innovative police...</td>\n",
       "      <td>R</td>\n",
       "      <td>Action and Adventure|Classics|Drama</td>\n",
       "      <td>William Friedkin</td>\n",
       "      <td>Ernest Tidyman</td>\n",
       "      <td>Oct 9, 1971</td>\n",
       "      <td>Sep 25, 2001</td>\n",
       "      <td>NaN</td>\n",
       "      <td>NaN</td>\n",
       "      <td>104 minutes</td>\n",
       "      <td>NaN</td>\n",
       "    </tr>\n",
       "    <tr>\n",
       "      <td>1</td>\n",
       "      <td>3</td>\n",
       "      <td>New York City, not-too-distant-future: Eric Pa...</td>\n",
       "      <td>R</td>\n",
       "      <td>Drama|Science Fiction and Fantasy</td>\n",
       "      <td>David Cronenberg</td>\n",
       "      <td>David Cronenberg|Don DeLillo</td>\n",
       "      <td>Aug 17, 2012</td>\n",
       "      <td>Jan 1, 2013</td>\n",
       "      <td>$</td>\n",
       "      <td>600,000</td>\n",
       "      <td>108 minutes</td>\n",
       "      <td>Entertainment One</td>\n",
       "    </tr>\n",
       "    <tr>\n",
       "      <td>2</td>\n",
       "      <td>5</td>\n",
       "      <td>Illeana Douglas delivers a superb performance ...</td>\n",
       "      <td>R</td>\n",
       "      <td>Drama|Musical and Performing Arts</td>\n",
       "      <td>Allison Anders</td>\n",
       "      <td>Allison Anders</td>\n",
       "      <td>Sep 13, 1996</td>\n",
       "      <td>Apr 18, 2000</td>\n",
       "      <td>NaN</td>\n",
       "      <td>NaN</td>\n",
       "      <td>116 minutes</td>\n",
       "      <td>NaN</td>\n",
       "    </tr>\n",
       "    <tr>\n",
       "      <td>3</td>\n",
       "      <td>6</td>\n",
       "      <td>Michael Douglas runs afoul of a treacherous su...</td>\n",
       "      <td>R</td>\n",
       "      <td>Drama|Mystery and Suspense</td>\n",
       "      <td>Barry Levinson</td>\n",
       "      <td>Paul Attanasio|Michael Crichton</td>\n",
       "      <td>Dec 9, 1994</td>\n",
       "      <td>Aug 27, 1997</td>\n",
       "      <td>NaN</td>\n",
       "      <td>NaN</td>\n",
       "      <td>128 minutes</td>\n",
       "      <td>NaN</td>\n",
       "    </tr>\n",
       "    <tr>\n",
       "      <td>4</td>\n",
       "      <td>7</td>\n",
       "      <td>NaN</td>\n",
       "      <td>NR</td>\n",
       "      <td>Drama|Romance</td>\n",
       "      <td>Rodney Bennett</td>\n",
       "      <td>Giles Cooper</td>\n",
       "      <td>NaN</td>\n",
       "      <td>NaN</td>\n",
       "      <td>NaN</td>\n",
       "      <td>NaN</td>\n",
       "      <td>200 minutes</td>\n",
       "      <td>NaN</td>\n",
       "    </tr>\n",
       "  </tbody>\n",
       "</table>\n",
       "</div>"
      ],
      "text/plain": [
       "   id                                           synopsis rating  \\\n",
       "0   1  This gritty, fast-paced, and innovative police...      R   \n",
       "1   3  New York City, not-too-distant-future: Eric Pa...      R   \n",
       "2   5  Illeana Douglas delivers a superb performance ...      R   \n",
       "3   6  Michael Douglas runs afoul of a treacherous su...      R   \n",
       "4   7                                                NaN     NR   \n",
       "\n",
       "                                 genre          director  \\\n",
       "0  Action and Adventure|Classics|Drama  William Friedkin   \n",
       "1    Drama|Science Fiction and Fantasy  David Cronenberg   \n",
       "2    Drama|Musical and Performing Arts    Allison Anders   \n",
       "3           Drama|Mystery and Suspense    Barry Levinson   \n",
       "4                        Drama|Romance    Rodney Bennett   \n",
       "\n",
       "                            writer  theater_date      dvd_date currency  \\\n",
       "0                   Ernest Tidyman   Oct 9, 1971  Sep 25, 2001      NaN   \n",
       "1     David Cronenberg|Don DeLillo  Aug 17, 2012   Jan 1, 2013        $   \n",
       "2                   Allison Anders  Sep 13, 1996  Apr 18, 2000      NaN   \n",
       "3  Paul Attanasio|Michael Crichton   Dec 9, 1994  Aug 27, 1997      NaN   \n",
       "4                     Giles Cooper           NaN           NaN      NaN   \n",
       "\n",
       "  box_office      runtime             studio  \n",
       "0        NaN  104 minutes                NaN  \n",
       "1    600,000  108 minutes  Entertainment One  \n",
       "2        NaN  116 minutes                NaN  \n",
       "3        NaN  128 minutes                NaN  \n",
       "4        NaN  200 minutes                NaN  "
      ]
     },
     "execution_count": 271,
     "metadata": {},
     "output_type": "execute_result"
    }
   ],
   "source": [
    "rt_df = pd.read_table('Data/rt.movie_info.tsv')\n",
    "rt_df.head()"
   ]
  },
  {
   "cell_type": "code",
   "execution_count": 222,
   "metadata": {},
   "outputs": [
    {
     "data": {
      "text/plain": [
       "(1560, 12)"
      ]
     },
     "execution_count": 222,
     "metadata": {},
     "output_type": "execute_result"
    }
   ],
   "source": [
    "rt_df.shape"
   ]
  },
  {
   "cell_type": "code",
   "execution_count": 217,
   "metadata": {},
   "outputs": [
    {
     "data": {
      "text/html": [
       "<div>\n",
       "<style scoped>\n",
       "    .dataframe tbody tr th:only-of-type {\n",
       "        vertical-align: middle;\n",
       "    }\n",
       "\n",
       "    .dataframe tbody tr th {\n",
       "        vertical-align: top;\n",
       "    }\n",
       "\n",
       "    .dataframe thead th {\n",
       "        text-align: right;\n",
       "    }\n",
       "</style>\n",
       "<table border=\"1\" class=\"dataframe\">\n",
       "  <thead>\n",
       "    <tr style=\"text-align: right;\">\n",
       "      <th></th>\n",
       "      <th>id</th>\n",
       "      <th>synopsis</th>\n",
       "      <th>rating</th>\n",
       "      <th>genre</th>\n",
       "      <th>director</th>\n",
       "      <th>writer</th>\n",
       "      <th>theater_date</th>\n",
       "      <th>dvd_date</th>\n",
       "      <th>currency</th>\n",
       "      <th>box_office</th>\n",
       "      <th>runtime</th>\n",
       "      <th>studio</th>\n",
       "    </tr>\n",
       "  </thead>\n",
       "  <tbody>\n",
       "    <tr>\n",
       "      <td>1</td>\n",
       "      <td>3</td>\n",
       "      <td>New York City, not-too-distant-future: Eric Pa...</td>\n",
       "      <td>R</td>\n",
       "      <td>Drama|Science Fiction and Fantasy</td>\n",
       "      <td>David Cronenberg</td>\n",
       "      <td>David Cronenberg|Don DeLillo</td>\n",
       "      <td>2012</td>\n",
       "      <td>Jan 1, 2013</td>\n",
       "      <td>$</td>\n",
       "      <td>600000</td>\n",
       "      <td>108 minutes</td>\n",
       "      <td>Entertainment One</td>\n",
       "    </tr>\n",
       "    <tr>\n",
       "      <td>6</td>\n",
       "      <td>10</td>\n",
       "      <td>Some cast and crew from NBC's highly acclaimed...</td>\n",
       "      <td>PG-13</td>\n",
       "      <td>Comedy</td>\n",
       "      <td>Jake Kasdan</td>\n",
       "      <td>Mike White</td>\n",
       "      <td>2002</td>\n",
       "      <td>Jun 18, 2002</td>\n",
       "      <td>$</td>\n",
       "      <td>41032915</td>\n",
       "      <td>82 minutes</td>\n",
       "      <td>Paramount Pictures</td>\n",
       "    </tr>\n",
       "    <tr>\n",
       "      <td>7</td>\n",
       "      <td>13</td>\n",
       "      <td>Stewart Kane, an Irishman living in the Austra...</td>\n",
       "      <td>R</td>\n",
       "      <td>Drama</td>\n",
       "      <td>Ray Lawrence</td>\n",
       "      <td>Raymond Carver|Beatrix Christian</td>\n",
       "      <td>2006</td>\n",
       "      <td>Oct 2, 2007</td>\n",
       "      <td>$</td>\n",
       "      <td>224114</td>\n",
       "      <td>123 minutes</td>\n",
       "      <td>Sony Pictures Classics</td>\n",
       "    </tr>\n",
       "    <tr>\n",
       "      <td>8</td>\n",
       "      <td>14</td>\n",
       "      <td>\"Love Ranch\" is a bittersweet love story that ...</td>\n",
       "      <td>R</td>\n",
       "      <td>Drama</td>\n",
       "      <td>Taylor Hackford</td>\n",
       "      <td>Mark Jacobson</td>\n",
       "      <td>2010</td>\n",
       "      <td>Nov 9, 2010</td>\n",
       "      <td>$</td>\n",
       "      <td>134904</td>\n",
       "      <td>117 minutes</td>\n",
       "      <td>NaN</td>\n",
       "    </tr>\n",
       "    <tr>\n",
       "      <td>15</td>\n",
       "      <td>22</td>\n",
       "      <td>Two-time Academy Award Winner Kevin Spacey giv...</td>\n",
       "      <td>R</td>\n",
       "      <td>Comedy|Drama|Mystery and Suspense</td>\n",
       "      <td>George Hickenlooper</td>\n",
       "      <td>Norman Snider</td>\n",
       "      <td>2010</td>\n",
       "      <td>Apr 5, 2011</td>\n",
       "      <td>$</td>\n",
       "      <td>1039869</td>\n",
       "      <td>108 minutes</td>\n",
       "      <td>ATO Pictures</td>\n",
       "    </tr>\n",
       "  </tbody>\n",
       "</table>\n",
       "</div>"
      ],
      "text/plain": [
       "    id                                           synopsis rating  \\\n",
       "1    3  New York City, not-too-distant-future: Eric Pa...      R   \n",
       "6   10  Some cast and crew from NBC's highly acclaimed...  PG-13   \n",
       "7   13  Stewart Kane, an Irishman living in the Austra...      R   \n",
       "8   14  \"Love Ranch\" is a bittersweet love story that ...      R   \n",
       "15  22  Two-time Academy Award Winner Kevin Spacey giv...      R   \n",
       "\n",
       "                                genre             director  \\\n",
       "1   Drama|Science Fiction and Fantasy     David Cronenberg   \n",
       "6                              Comedy          Jake Kasdan   \n",
       "7                               Drama         Ray Lawrence   \n",
       "8                               Drama      Taylor Hackford   \n",
       "15  Comedy|Drama|Mystery and Suspense  George Hickenlooper   \n",
       "\n",
       "                              writer theater_date      dvd_date currency  \\\n",
       "1       David Cronenberg|Don DeLillo         2012   Jan 1, 2013        $   \n",
       "6                         Mike White         2002  Jun 18, 2002        $   \n",
       "7   Raymond Carver|Beatrix Christian         2006   Oct 2, 2007        $   \n",
       "8                      Mark Jacobson         2010   Nov 9, 2010        $   \n",
       "15                     Norman Snider         2010   Apr 5, 2011        $   \n",
       "\n",
       "    box_office      runtime                  studio  \n",
       "1       600000  108 minutes       Entertainment One  \n",
       "6     41032915   82 minutes      Paramount Pictures  \n",
       "7       224114  123 minutes  Sony Pictures Classics  \n",
       "8       134904  117 minutes                     NaN  \n",
       "15     1039869  108 minutes            ATO Pictures  "
      ]
     },
     "execution_count": 217,
     "metadata": {},
     "output_type": "execute_result"
    }
   ],
   "source": [
    "rt_df.head()"
   ]
  },
  {
   "cell_type": "code",
   "execution_count": 9,
   "metadata": {},
   "outputs": [],
   "source": [
    "rt_df = rt_df.dropna(subset=['genre','dvd_date','box_office'])"
   ]
  },
  {
   "cell_type": "code",
   "execution_count": 10,
   "metadata": {},
   "outputs": [],
   "source": [
    "def to_year_only(entry):\n",
    "    return str(entry)[-4:]\n",
    "\n",
    "def to_int_only(entry):\n",
    "    return int(entry.replace(',',''))"
   ]
  },
  {
   "cell_type": "code",
   "execution_count": 11,
   "metadata": {},
   "outputs": [],
   "source": [
    "rt_df['theater_date'] = [to_year_only(d) for d in rt_df.theater_date]"
   ]
  },
  {
   "cell_type": "code",
   "execution_count": 12,
   "metadata": {},
   "outputs": [
    {
     "data": {
      "text/html": [
       "<div>\n",
       "<style scoped>\n",
       "    .dataframe tbody tr th:only-of-type {\n",
       "        vertical-align: middle;\n",
       "    }\n",
       "\n",
       "    .dataframe tbody tr th {\n",
       "        vertical-align: top;\n",
       "    }\n",
       "\n",
       "    .dataframe thead th {\n",
       "        text-align: right;\n",
       "    }\n",
       "</style>\n",
       "<table border=\"1\" class=\"dataframe\">\n",
       "  <thead>\n",
       "    <tr style=\"text-align: right;\">\n",
       "      <th></th>\n",
       "      <th>id</th>\n",
       "      <th>synopsis</th>\n",
       "      <th>rating</th>\n",
       "      <th>genre</th>\n",
       "      <th>director</th>\n",
       "      <th>writer</th>\n",
       "      <th>theater_date</th>\n",
       "      <th>dvd_date</th>\n",
       "      <th>currency</th>\n",
       "      <th>box_office</th>\n",
       "      <th>runtime</th>\n",
       "      <th>studio</th>\n",
       "    </tr>\n",
       "  </thead>\n",
       "  <tbody>\n",
       "    <tr>\n",
       "      <td>1</td>\n",
       "      <td>3</td>\n",
       "      <td>New York City, not-too-distant-future: Eric Pa...</td>\n",
       "      <td>R</td>\n",
       "      <td>Drama|Science Fiction and Fantasy</td>\n",
       "      <td>David Cronenberg</td>\n",
       "      <td>David Cronenberg|Don DeLillo</td>\n",
       "      <td>2012</td>\n",
       "      <td>Jan 1, 2013</td>\n",
       "      <td>$</td>\n",
       "      <td>600,000</td>\n",
       "      <td>108 minutes</td>\n",
       "      <td>Entertainment One</td>\n",
       "    </tr>\n",
       "    <tr>\n",
       "      <td>6</td>\n",
       "      <td>10</td>\n",
       "      <td>Some cast and crew from NBC's highly acclaimed...</td>\n",
       "      <td>PG-13</td>\n",
       "      <td>Comedy</td>\n",
       "      <td>Jake Kasdan</td>\n",
       "      <td>Mike White</td>\n",
       "      <td>2002</td>\n",
       "      <td>Jun 18, 2002</td>\n",
       "      <td>$</td>\n",
       "      <td>41,032,915</td>\n",
       "      <td>82 minutes</td>\n",
       "      <td>Paramount Pictures</td>\n",
       "    </tr>\n",
       "    <tr>\n",
       "      <td>7</td>\n",
       "      <td>13</td>\n",
       "      <td>Stewart Kane, an Irishman living in the Austra...</td>\n",
       "      <td>R</td>\n",
       "      <td>Drama</td>\n",
       "      <td>Ray Lawrence</td>\n",
       "      <td>Raymond Carver|Beatrix Christian</td>\n",
       "      <td>2006</td>\n",
       "      <td>Oct 2, 2007</td>\n",
       "      <td>$</td>\n",
       "      <td>224,114</td>\n",
       "      <td>123 minutes</td>\n",
       "      <td>Sony Pictures Classics</td>\n",
       "    </tr>\n",
       "    <tr>\n",
       "      <td>8</td>\n",
       "      <td>14</td>\n",
       "      <td>\"Love Ranch\" is a bittersweet love story that ...</td>\n",
       "      <td>R</td>\n",
       "      <td>Drama</td>\n",
       "      <td>Taylor Hackford</td>\n",
       "      <td>Mark Jacobson</td>\n",
       "      <td>2010</td>\n",
       "      <td>Nov 9, 2010</td>\n",
       "      <td>$</td>\n",
       "      <td>134,904</td>\n",
       "      <td>117 minutes</td>\n",
       "      <td>NaN</td>\n",
       "    </tr>\n",
       "    <tr>\n",
       "      <td>15</td>\n",
       "      <td>22</td>\n",
       "      <td>Two-time Academy Award Winner Kevin Spacey giv...</td>\n",
       "      <td>R</td>\n",
       "      <td>Comedy|Drama|Mystery and Suspense</td>\n",
       "      <td>George Hickenlooper</td>\n",
       "      <td>Norman Snider</td>\n",
       "      <td>2010</td>\n",
       "      <td>Apr 5, 2011</td>\n",
       "      <td>$</td>\n",
       "      <td>1,039,869</td>\n",
       "      <td>108 minutes</td>\n",
       "      <td>ATO Pictures</td>\n",
       "    </tr>\n",
       "  </tbody>\n",
       "</table>\n",
       "</div>"
      ],
      "text/plain": [
       "    id                                           synopsis rating  \\\n",
       "1    3  New York City, not-too-distant-future: Eric Pa...      R   \n",
       "6   10  Some cast and crew from NBC's highly acclaimed...  PG-13   \n",
       "7   13  Stewart Kane, an Irishman living in the Austra...      R   \n",
       "8   14  \"Love Ranch\" is a bittersweet love story that ...      R   \n",
       "15  22  Two-time Academy Award Winner Kevin Spacey giv...      R   \n",
       "\n",
       "                                genre             director  \\\n",
       "1   Drama|Science Fiction and Fantasy     David Cronenberg   \n",
       "6                              Comedy          Jake Kasdan   \n",
       "7                               Drama         Ray Lawrence   \n",
       "8                               Drama      Taylor Hackford   \n",
       "15  Comedy|Drama|Mystery and Suspense  George Hickenlooper   \n",
       "\n",
       "                              writer theater_date      dvd_date currency  \\\n",
       "1       David Cronenberg|Don DeLillo         2012   Jan 1, 2013        $   \n",
       "6                         Mike White         2002  Jun 18, 2002        $   \n",
       "7   Raymond Carver|Beatrix Christian         2006   Oct 2, 2007        $   \n",
       "8                      Mark Jacobson         2010   Nov 9, 2010        $   \n",
       "15                     Norman Snider         2010   Apr 5, 2011        $   \n",
       "\n",
       "    box_office      runtime                  studio  \n",
       "1      600,000  108 minutes       Entertainment One  \n",
       "6   41,032,915   82 minutes      Paramount Pictures  \n",
       "7      224,114  123 minutes  Sony Pictures Classics  \n",
       "8      134,904  117 minutes                     NaN  \n",
       "15   1,039,869  108 minutes            ATO Pictures  "
      ]
     },
     "execution_count": 12,
     "metadata": {},
     "output_type": "execute_result"
    }
   ],
   "source": [
    "rt_df.head()"
   ]
  },
  {
   "cell_type": "code",
   "execution_count": 13,
   "metadata": {},
   "outputs": [],
   "source": [
    "rt_df['box_office'] = [to_int_only(c) for c in rt_df.box_office]"
   ]
  },
  {
   "cell_type": "code",
   "execution_count": 218,
   "metadata": {},
   "outputs": [
    {
     "data": {
      "text/html": [
       "<div>\n",
       "<style scoped>\n",
       "    .dataframe tbody tr th:only-of-type {\n",
       "        vertical-align: middle;\n",
       "    }\n",
       "\n",
       "    .dataframe tbody tr th {\n",
       "        vertical-align: top;\n",
       "    }\n",
       "\n",
       "    .dataframe thead th {\n",
       "        text-align: right;\n",
       "    }\n",
       "</style>\n",
       "<table border=\"1\" class=\"dataframe\">\n",
       "  <thead>\n",
       "    <tr style=\"text-align: right;\">\n",
       "      <th></th>\n",
       "      <th>id</th>\n",
       "      <th>synopsis</th>\n",
       "      <th>rating</th>\n",
       "      <th>genre</th>\n",
       "      <th>director</th>\n",
       "      <th>writer</th>\n",
       "      <th>theater_date</th>\n",
       "      <th>dvd_date</th>\n",
       "      <th>currency</th>\n",
       "      <th>box_office</th>\n",
       "      <th>runtime</th>\n",
       "      <th>studio</th>\n",
       "    </tr>\n",
       "  </thead>\n",
       "  <tbody>\n",
       "    <tr>\n",
       "      <td>1</td>\n",
       "      <td>3</td>\n",
       "      <td>New York City, not-too-distant-future: Eric Pa...</td>\n",
       "      <td>R</td>\n",
       "      <td>Drama|Science Fiction and Fantasy</td>\n",
       "      <td>David Cronenberg</td>\n",
       "      <td>David Cronenberg|Don DeLillo</td>\n",
       "      <td>2012</td>\n",
       "      <td>Jan 1, 2013</td>\n",
       "      <td>$</td>\n",
       "      <td>600000</td>\n",
       "      <td>108 minutes</td>\n",
       "      <td>Entertainment One</td>\n",
       "    </tr>\n",
       "    <tr>\n",
       "      <td>6</td>\n",
       "      <td>10</td>\n",
       "      <td>Some cast and crew from NBC's highly acclaimed...</td>\n",
       "      <td>PG-13</td>\n",
       "      <td>Comedy</td>\n",
       "      <td>Jake Kasdan</td>\n",
       "      <td>Mike White</td>\n",
       "      <td>2002</td>\n",
       "      <td>Jun 18, 2002</td>\n",
       "      <td>$</td>\n",
       "      <td>41032915</td>\n",
       "      <td>82 minutes</td>\n",
       "      <td>Paramount Pictures</td>\n",
       "    </tr>\n",
       "    <tr>\n",
       "      <td>7</td>\n",
       "      <td>13</td>\n",
       "      <td>Stewart Kane, an Irishman living in the Austra...</td>\n",
       "      <td>R</td>\n",
       "      <td>Drama</td>\n",
       "      <td>Ray Lawrence</td>\n",
       "      <td>Raymond Carver|Beatrix Christian</td>\n",
       "      <td>2006</td>\n",
       "      <td>Oct 2, 2007</td>\n",
       "      <td>$</td>\n",
       "      <td>224114</td>\n",
       "      <td>123 minutes</td>\n",
       "      <td>Sony Pictures Classics</td>\n",
       "    </tr>\n",
       "    <tr>\n",
       "      <td>8</td>\n",
       "      <td>14</td>\n",
       "      <td>\"Love Ranch\" is a bittersweet love story that ...</td>\n",
       "      <td>R</td>\n",
       "      <td>Drama</td>\n",
       "      <td>Taylor Hackford</td>\n",
       "      <td>Mark Jacobson</td>\n",
       "      <td>2010</td>\n",
       "      <td>Nov 9, 2010</td>\n",
       "      <td>$</td>\n",
       "      <td>134904</td>\n",
       "      <td>117 minutes</td>\n",
       "      <td>NaN</td>\n",
       "    </tr>\n",
       "    <tr>\n",
       "      <td>15</td>\n",
       "      <td>22</td>\n",
       "      <td>Two-time Academy Award Winner Kevin Spacey giv...</td>\n",
       "      <td>R</td>\n",
       "      <td>Comedy|Drama|Mystery and Suspense</td>\n",
       "      <td>George Hickenlooper</td>\n",
       "      <td>Norman Snider</td>\n",
       "      <td>2010</td>\n",
       "      <td>Apr 5, 2011</td>\n",
       "      <td>$</td>\n",
       "      <td>1039869</td>\n",
       "      <td>108 minutes</td>\n",
       "      <td>ATO Pictures</td>\n",
       "    </tr>\n",
       "  </tbody>\n",
       "</table>\n",
       "</div>"
      ],
      "text/plain": [
       "    id                                           synopsis rating  \\\n",
       "1    3  New York City, not-too-distant-future: Eric Pa...      R   \n",
       "6   10  Some cast and crew from NBC's highly acclaimed...  PG-13   \n",
       "7   13  Stewart Kane, an Irishman living in the Austra...      R   \n",
       "8   14  \"Love Ranch\" is a bittersweet love story that ...      R   \n",
       "15  22  Two-time Academy Award Winner Kevin Spacey giv...      R   \n",
       "\n",
       "                                genre             director  \\\n",
       "1   Drama|Science Fiction and Fantasy     David Cronenberg   \n",
       "6                              Comedy          Jake Kasdan   \n",
       "7                               Drama         Ray Lawrence   \n",
       "8                               Drama      Taylor Hackford   \n",
       "15  Comedy|Drama|Mystery and Suspense  George Hickenlooper   \n",
       "\n",
       "                              writer theater_date      dvd_date currency  \\\n",
       "1       David Cronenberg|Don DeLillo         2012   Jan 1, 2013        $   \n",
       "6                         Mike White         2002  Jun 18, 2002        $   \n",
       "7   Raymond Carver|Beatrix Christian         2006   Oct 2, 2007        $   \n",
       "8                      Mark Jacobson         2010   Nov 9, 2010        $   \n",
       "15                     Norman Snider         2010   Apr 5, 2011        $   \n",
       "\n",
       "    box_office      runtime                  studio  \n",
       "1       600000  108 minutes       Entertainment One  \n",
       "6     41032915   82 minutes      Paramount Pictures  \n",
       "7       224114  123 minutes  Sony Pictures Classics  \n",
       "8       134904  117 minutes                     NaN  \n",
       "15     1039869  108 minutes            ATO Pictures  "
      ]
     },
     "execution_count": 218,
     "metadata": {},
     "output_type": "execute_result"
    }
   ],
   "source": [
    "rt_df.head()"
   ]
  },
  {
   "cell_type": "code",
   "execution_count": 219,
   "metadata": {},
   "outputs": [
    {
     "data": {
      "text/plain": [
       "(334, 12)"
      ]
     },
     "execution_count": 219,
     "metadata": {},
     "output_type": "execute_result"
    }
   ],
   "source": [
    "rt_df.shape"
   ]
  },
  {
   "cell_type": "code",
   "execution_count": 15,
   "metadata": {},
   "outputs": [],
   "source": [
    "def gross_per_year(df):\n",
    "    gross_info = {}\n",
    "    years = sorted(list(df.theater_date.unique()))\n",
    "    for year in years:\n",
    "        year_group = df[df['theater_date']==year]\n",
    "        total = sum(year_group.box_office)\n",
    "        gross_info[str(year)] = total\n",
    "    return gross_info"
   ]
  },
  {
   "cell_type": "code",
   "execution_count": 16,
   "metadata": {},
   "outputs": [],
   "source": [
    "genre_gross_info = {}\n",
    "for genre in top10genres:\n",
    "    genre_df = rt_df[rt_df['genre'].str.contains(genre)]\n",
    "    genre_gross_info[str(genre)] = gross_per_year(genre_df)"
   ]
  },
  {
   "cell_type": "code",
   "execution_count": 201,
   "metadata": {},
   "outputs": [
    {
     "data": {
      "text/plain": [
       "{'Documentary': {'2002': 64209101,\n",
       "  '2003': 16443233,\n",
       "  '2007': 598103,\n",
       "  '2009': 73614405,\n",
       "  '2010': 21930339,\n",
       "  '2011': 410077,\n",
       "  '2012': 104286,\n",
       "  '2013': 419361,\n",
       "  '2017': 118253},\n",
       " 'Drama': {'1958': 109257,\n",
       "  '1974': 8300,\n",
       "  '1985': 33200000,\n",
       "  '1990': 119000000,\n",
       "  '1992': 32000000,\n",
       "  '1998': 2365931,\n",
       "  '2000': 187320284,\n",
       "  '2001': 197000602,\n",
       "  '2002': 261391943,\n",
       "  '2003': 590714367,\n",
       "  '2004': 758246634,\n",
       "  '2005': 330836419,\n",
       "  '2006': 483557587,\n",
       "  '2007': 216501576,\n",
       "  '2008': 610385977,\n",
       "  '2009': 377783505,\n",
       "  '2010': 240250223,\n",
       "  '2011': 491491634,\n",
       "  '2012': 21937607,\n",
       "  '2013': 163455972,\n",
       "  '2014': 69551399,\n",
       "  '2015': 115369064,\n",
       "  '2016': 113081351,\n",
       "  '2017': 184235449,\n",
       "  '2018': 35003216},\n",
       " 'Comedy': {'1974': 8300,\n",
       "  '1998': 2365931,\n",
       "  '2000': 287077967,\n",
       "  '2001': 209770163,\n",
       "  '2002': 550137311,\n",
       "  '2003': 307148317,\n",
       "  '2004': 517101721,\n",
       "  '2005': 357206764,\n",
       "  '2006': 581383066,\n",
       "  '2007': 462289492,\n",
       "  '2008': 430170409,\n",
       "  '2009': 402981383,\n",
       "  '2010': 181958088,\n",
       "  '2011': 337212385,\n",
       "  '2012': 188196542,\n",
       "  '2013': 192315820,\n",
       "  '2014': 69692640,\n",
       "  '2015': 130463931,\n",
       "  '2016': 130599224,\n",
       "  '2017': 315216977},\n",
       " 'Thriller': {},\n",
       " 'Horror': {'2000': 7518962,\n",
       "  '2001': 19755422,\n",
       "  '2002': 180722737,\n",
       "  '2003': 27760025,\n",
       "  '2005': 48465190,\n",
       "  '2006': 174387619,\n",
       "  '2007': 27563048,\n",
       "  '2009': 10572742,\n",
       "  '2010': 23748477,\n",
       "  '2011': 42500000,\n",
       "  '2012': 73233767,\n",
       "  '2013': 87621,\n",
       "  '2014': 15687400,\n",
       "  '2015': 46425243,\n",
       "  '2017': 13985117},\n",
       " 'Action': {'1974': 8300,\n",
       "  '1985': 33200000,\n",
       "  '1990': 119000000,\n",
       "  '1993': 45299680,\n",
       "  '2000': 187808264,\n",
       "  '2001': 21254983,\n",
       "  '2002': 323193408,\n",
       "  '2003': 431637376,\n",
       "  '2004': 373516824,\n",
       "  '2005': 570620484,\n",
       "  '2006': 334780511,\n",
       "  '2007': 191665933,\n",
       "  '2008': 455598269,\n",
       "  '2009': 446603977,\n",
       "  '2010': 206790705,\n",
       "  '2011': 463079338,\n",
       "  '2012': 675359908,\n",
       "  '2013': 38718577,\n",
       "  '2015': 72413,\n",
       "  '2016': 2296852,\n",
       "  '2018': 1526248},\n",
       " 'Romance': {'1958': 109257,\n",
       "  '2000': 2586310,\n",
       "  '2001': 94642490,\n",
       "  '2002': 477531354,\n",
       "  '2003': 154084427,\n",
       "  '2004': 25178536,\n",
       "  '2005': 310375142,\n",
       "  '2006': 207341307,\n",
       "  '2007': 295043997,\n",
       "  '2008': 154290802,\n",
       "  '2009': 4341275,\n",
       "  '2010': 152229251,\n",
       "  '2011': 100067095,\n",
       "  '2013': 6433726,\n",
       "  '2014': 13617501,\n",
       "  '2015': 10145057,\n",
       "  '2016': 12854587,\n",
       "  '2017': 5617321},\n",
       " 'Biography': {},\n",
       " 'Crime': {},\n",
       " 'Adventure': {'1974': 8300,\n",
       "  '1985': 33200000,\n",
       "  '1990': 119000000,\n",
       "  '1993': 45299680,\n",
       "  '2000': 187808264,\n",
       "  '2001': 21254983,\n",
       "  '2002': 323193408,\n",
       "  '2003': 431637376,\n",
       "  '2004': 373516824,\n",
       "  '2005': 570620484,\n",
       "  '2006': 334780511,\n",
       "  '2007': 191665933,\n",
       "  '2008': 455598269,\n",
       "  '2009': 446603977,\n",
       "  '2010': 206790705,\n",
       "  '2011': 463079338,\n",
       "  '2012': 675359908,\n",
       "  '2013': 38718577,\n",
       "  '2015': 72413,\n",
       "  '2016': 2296852,\n",
       "  '2018': 1526248}}"
      ]
     },
     "execution_count": 201,
     "metadata": {},
     "output_type": "execute_result"
    }
   ],
   "source": [
    "genre_gross_info"
   ]
  },
  {
   "cell_type": "code",
   "execution_count": 17,
   "metadata": {},
   "outputs": [],
   "source": [
    "genre_total_gross_info = {}\n",
    "for genre in genre_gross_info:\n",
    "    genre_total_gross_info[genre] = sum(genre_gross_info[genre].values())"
   ]
  },
  {
   "cell_type": "code",
   "execution_count": 18,
   "metadata": {},
   "outputs": [
    {
     "data": {
      "text/plain": [
       "([0, 1, 2, 3, 4, 5, 6, 7, 8, 9], <a list of 10 Text xticklabel objects>)"
      ]
     },
     "execution_count": 18,
     "metadata": {},
     "output_type": "execute_result"
    },
    {
     "data": {
      "image/png": "[encoded data removed]",
      "text/plain": [
       "<Figure size 432x288 with 1 Axes>"
      ]
     },
     "metadata": {
      "needs_background": "light"
     },
     "output_type": "display_data"
    }
   ],
   "source": [
    "plt.bar(genre_total_gross_info.keys(),genre_total_gross_info.values())\n",
    "plt.xticks(rotation=90)"
   ]
  },
  {
   "cell_type": "code",
   "execution_count": 213,
   "metadata": {},
   "outputs": [
    {
     "data": {
      "image/png": "[encoded data removed]",
      "text/plain": [
       "<Figure size 432x288 with 1 Axes>"
      ]
     },
     "metadata": {
      "needs_background": "light"
     },
     "output_type": "display_data"
    },
    {
     "data": {
      "image/png": "[encoded data removed]",
      "text/plain": [
       "<Figure size 432x288 with 1 Axes>"
      ]
     },
     "metadata": {
      "needs_background": "light"
     },
     "output_type": "display_data"
    },
    {
     "data": {
      "image/png": "[encoded data removed]",
      "text/plain": [
       "<Figure size 432x288 with 1 Axes>"
      ]
     },
     "metadata": {
      "needs_background": "light"
     },
     "output_type": "display_data"
    },
    {
     "data": {
      "image/png": "[encoded data removed]",
      "text/plain": [
       "<Figure size 432x288 with 1 Axes>"
      ]
     },
     "metadata": {
      "needs_background": "light"
     },
     "output_type": "display_data"
    },
    {
     "data": {
      "image/png": "[encoded data removed]",
      "text/plain": [
       "<Figure size 432x288 with 1 Axes>"
      ]
     },
     "metadata": {
      "needs_background": "light"
     },
     "output_type": "display_data"
    },
    {
     "data": {
      "image/png": "[encoded data removed]",
      "text/plain": [
       "<Figure size 432x288 with 1 Axes>"
      ]
     },
     "metadata": {
      "needs_background": "light"
     },
     "output_type": "display_data"
    },
    {
     "data": {
      "image/png": "[encoded data removed]",
      "text/plain": [
       "<Figure size 432x288 with 1 Axes>"
      ]
     },
     "metadata": {
      "needs_background": "light"
     },
     "output_type": "display_data"
    },
    {
     "data": {
      "image/png": "[encoded data removed]",
      "text/plain": [
       "<Figure size 432x288 with 1 Axes>"
      ]
     },
     "metadata": {
      "needs_background": "light"
     },
     "output_type": "display_data"
    },
    {
     "data": {
      "image/png": "[encoded data removed]",
      "text/plain": [
       "<Figure size 432x288 with 1 Axes>"
      ]
     },
     "metadata": {
      "needs_background": "light"
     },
     "output_type": "display_data"
    },
    {
     "data": {
      "image/png": "[encoded data removed]",
      "text/plain": [
       "<Figure size 432x288 with 1 Axes>"
      ]
     },
     "metadata": {
      "needs_background": "light"
     },
     "output_type": "display_data"
    }
   ],
   "source": [
    "for genre in genre_gross_info:\n",
    "    plt.bar(genre_gross_info[genre].keys(),\n",
    "            genre_gross_info[genre].values())\n",
    "    plt.title(genre)\n",
    "    plt.xticks(rotation=90)\n",
    "    plt.tight_layout()\n",
    "    plt.show()"
   ]
  },
  {
   "cell_type": "code",
   "execution_count": 212,
   "metadata": {},
   "outputs": [
    {
     "data": {
      "text/plain": [
       "{'Documentary': {'2002': 64209101,\n",
       "  '2003': 16443233,\n",
       "  '2007': 598103,\n",
       "  '2009': 73614405,\n",
       "  '2010': 21930339,\n",
       "  '2011': 410077,\n",
       "  '2012': 104286,\n",
       "  '2013': 419361,\n",
       "  '2017': 118253},\n",
       " 'Drama': {'1958': 109257,\n",
       "  '1974': 8300,\n",
       "  '1985': 33200000,\n",
       "  '1990': 119000000,\n",
       "  '1992': 32000000,\n",
       "  '1998': 2365931,\n",
       "  '2000': 187320284,\n",
       "  '2001': 197000602,\n",
       "  '2002': 261391943,\n",
       "  '2003': 590714367,\n",
       "  '2004': 758246634,\n",
       "  '2005': 330836419,\n",
       "  '2006': 483557587,\n",
       "  '2007': 216501576,\n",
       "  '2008': 610385977,\n",
       "  '2009': 377783505,\n",
       "  '2010': 240250223,\n",
       "  '2011': 491491634,\n",
       "  '2012': 21937607,\n",
       "  '2013': 163455972,\n",
       "  '2014': 69551399,\n",
       "  '2015': 115369064,\n",
       "  '2016': 113081351,\n",
       "  '2017': 184235449,\n",
       "  '2018': 35003216},\n",
       " 'Comedy': {'1974': 8300,\n",
       "  '1998': 2365931,\n",
       "  '2000': 287077967,\n",
       "  '2001': 209770163,\n",
       "  '2002': 550137311,\n",
       "  '2003': 307148317,\n",
       "  '2004': 517101721,\n",
       "  '2005': 357206764,\n",
       "  '2006': 581383066,\n",
       "  '2007': 462289492,\n",
       "  '2008': 430170409,\n",
       "  '2009': 402981383,\n",
       "  '2010': 181958088,\n",
       "  '2011': 337212385,\n",
       "  '2012': 188196542,\n",
       "  '2013': 192315820,\n",
       "  '2014': 69692640,\n",
       "  '2015': 130463931,\n",
       "  '2016': 130599224,\n",
       "  '2017': 315216977},\n",
       " 'Thriller': {},\n",
       " 'Horror': {'2000': 7518962,\n",
       "  '2001': 19755422,\n",
       "  '2002': 180722737,\n",
       "  '2003': 27760025,\n",
       "  '2005': 48465190,\n",
       "  '2006': 174387619,\n",
       "  '2007': 27563048,\n",
       "  '2009': 10572742,\n",
       "  '2010': 23748477,\n",
       "  '2011': 42500000,\n",
       "  '2012': 73233767,\n",
       "  '2013': 87621,\n",
       "  '2014': 15687400,\n",
       "  '2015': 46425243,\n",
       "  '2017': 13985117},\n",
       " 'Action': {'1974': 8300,\n",
       "  '1985': 33200000,\n",
       "  '1990': 119000000,\n",
       "  '1993': 45299680,\n",
       "  '2000': 187808264,\n",
       "  '2001': 21254983,\n",
       "  '2002': 323193408,\n",
       "  '2003': 431637376,\n",
       "  '2004': 373516824,\n",
       "  '2005': 570620484,\n",
       "  '2006': 334780511,\n",
       "  '2007': 191665933,\n",
       "  '2008': 455598269,\n",
       "  '2009': 446603977,\n",
       "  '2010': 206790705,\n",
       "  '2011': 463079338,\n",
       "  '2012': 675359908,\n",
       "  '2013': 38718577,\n",
       "  '2015': 72413,\n",
       "  '2016': 2296852,\n",
       "  '2018': 1526248},\n",
       " 'Romance': {'1958': 109257,\n",
       "  '2000': 2586310,\n",
       "  '2001': 94642490,\n",
       "  '2002': 477531354,\n",
       "  '2003': 154084427,\n",
       "  '2004': 25178536,\n",
       "  '2005': 310375142,\n",
       "  '2006': 207341307,\n",
       "  '2007': 295043997,\n",
       "  '2008': 154290802,\n",
       "  '2009': 4341275,\n",
       "  '2010': 152229251,\n",
       "  '2011': 100067095,\n",
       "  '2013': 6433726,\n",
       "  '2014': 13617501,\n",
       "  '2015': 10145057,\n",
       "  '2016': 12854587,\n",
       "  '2017': 5617321},\n",
       " 'Biography': {},\n",
       " 'Crime': {},\n",
       " 'Adventure': {'1974': 8300,\n",
       "  '1985': 33200000,\n",
       "  '1990': 119000000,\n",
       "  '1993': 45299680,\n",
       "  '2000': 187808264,\n",
       "  '2001': 21254983,\n",
       "  '2002': 323193408,\n",
       "  '2003': 431637376,\n",
       "  '2004': 373516824,\n",
       "  '2005': 570620484,\n",
       "  '2006': 334780511,\n",
       "  '2007': 191665933,\n",
       "  '2008': 455598269,\n",
       "  '2009': 446603977,\n",
       "  '2010': 206790705,\n",
       "  '2011': 463079338,\n",
       "  '2012': 675359908,\n",
       "  '2013': 38718577,\n",
       "  '2015': 72413,\n",
       "  '2016': 2296852,\n",
       "  '2018': 1526248}}"
      ]
     },
     "execution_count": 212,
     "metadata": {},
     "output_type": "execute_result"
    }
   ],
   "source": [
    "genre_gross_info"
   ]
  },
  {
   "cell_type": "code",
   "execution_count": 216,
   "metadata": {},
   "outputs": [
    {
     "data": {
      "image/png": "[encoded data removed]",
      "text/plain": [
       "<Figure size 432x288 with 1 Axes>"
      ]
     },
     "metadata": {
      "needs_background": "light"
     },
     "output_type": "display_data"
    }
   ],
   "source": [
    "topgenres_and_doc = ['Comedy', 'Drama', 'Action', 'Documentary']\n",
    "genre_decade_grossings = {'Comedy': 0, 'Drama': 0, 'Action': 0, 'Documentary': 0}\n",
    "for genre in topgenres_and_doc:\n",
    "    for year in genre_gross_info[genre]:\n",
    "        if int(year)>1999 and int(year)<2018:\n",
    "            genre_decade_grossings[genre] += genre_gross_info[genre][year]\n",
    "            \n",
    "sns.barplot(list(genre_decade_grossings.keys()), list(genre_decade_grossings.values()))\n",
    "plt.title('Total Grossing Amounts Overall')\n",
    "plt.xlabel('Genre')\n",
    "plt.ylabel('Grossing Amount(Billions)')\n",
    "plt.savefig('genregrosstotals.png')\n",
    "plt.show()"
   ]
  },
  {
   "cell_type": "code",
   "execution_count": 18,
   "metadata": {},
   "outputs": [],
   "source": [
    "top3 = ['Comedy', 'Adventure', 'Action']"
   ]
  },
  {
   "cell_type": "code",
   "execution_count": 250,
   "metadata": {},
   "outputs": [],
   "source": [
    "comedy_gross = genre_gross_info['Comedy']\n",
    "adventure_gross = genre_gross_info['Adventure']\n",
    "drama_gross = genre_gross_info['Drama']\n",
    "years = []\n",
    "\n",
    "for genre in top3:\n",
    "    genre_years = list(genre_gross_info[str(genre)].keys())\n",
    "    for year in genre_years:\n",
    "        if year not in years:\n",
    "            years.append(year)"
   ]
  },
  {
   "cell_type": "code",
   "execution_count": 19,
   "metadata": {},
   "outputs": [],
   "source": [
    "comedy_df = rt_df[rt_df['genre'].str.contains('Comedy')] "
   ]
  },
  {
   "cell_type": "code",
   "execution_count": 94,
   "metadata": {},
   "outputs": [],
   "source": [
    "action_df = rt_df[rt_df['genre'].str.contains('Action')]"
   ]
  },
  {
   "cell_type": "code",
   "execution_count": 36,
   "metadata": {},
   "outputs": [],
   "source": [
    "drama_df = rt_df[rt_df['genre'].str.contains('Drama')]"
   ]
  },
  {
   "cell_type": "code",
   "execution_count": 52,
   "metadata": {},
   "outputs": [],
   "source": [
    "def top5_studios_in_genre(df):\n",
    "    studio_info = {}\n",
    "    studios = list(df.studio.unique())\n",
    "    for studio in studios:\n",
    "        studio_group = df[df['studio']==studio]\n",
    "        total=sum(studio_group.box_office)\n",
    "        studio_info[studio]=total\n",
    "    sorted_studios = {s: g for s, g in sorted(studio_info.items(), key=lambda item: item[1],reverse=True)}\n",
    "    top5 = dict(itertools.islice(sorted_studios.items(), 5))\n",
    "    return top5"
   ]
  },
  {
   "cell_type": "code",
   "execution_count": 72,
   "metadata": {},
   "outputs": [
    {
     "data": {
      "image/png": "[encoded data removed]",
      "text/plain": [
       "<Figure size 432x288 with 1 Axes>"
      ]
     },
     "metadata": {
      "needs_background": "light"
     },
     "output_type": "display_data"
    }
   ],
   "source": [
    "comedy = top5_studios_in_genre(comedy_df)\n",
    "plt.title('Top Grossing Studios in Comedy')\n",
    "sns.barplot(list(comedy.values()),list(comedy.keys()))\n",
    "plt.xlabel('Total Gross(Billions)')\n",
    "plt.ylabel('Studios')\n",
    "plt.tight_layout()\n",
    "plt.savefig('comedy.png')\n",
    "plt.show()"
   ]
  },
  {
   "cell_type": "code",
   "execution_count": 54,
   "metadata": {},
   "outputs": [
    {
     "data": {
      "text/plain": [
       "{'Universal Pictures': 1283333091,\n",
       " 'Paramount Pictures': 639528024,\n",
       " 'Sony Pictures': 422157773,\n",
       " '20th Century Fox': 394394751,\n",
       " 'Columbia Pictures': 351167320}"
      ]
     },
     "execution_count": 54,
     "metadata": {},
     "output_type": "execute_result"
    }
   ],
   "source": [
    "comedy"
   ]
  },
  {
   "cell_type": "code",
   "execution_count": 96,
   "metadata": {},
   "outputs": [
    {
     "data": {
      "image/png": "[encoded data removed]",
      "text/plain": [
       "<Figure size 432x288 with 1 Axes>"
      ]
     },
     "metadata": {
      "needs_background": "light"
     },
     "output_type": "display_data"
    }
   ],
   "source": [
    "action = top5_studios_in_genre(action_df)\n",
    "plt.title('Top Grossing Studios in Action')\n",
    "sns.barplot(list(adventure.values()),list(adventure.keys()))\n",
    "plt.xlabel('Total Gross(Hundred Millions)')\n",
    "plt.ylabel('Studios')\n",
    "plt.tight_layout()\n",
    "plt.savefig('action.png')\n",
    "plt.show()"
   ]
  },
  {
   "cell_type": "code",
   "execution_count": 93,
   "metadata": {},
   "outputs": [
    {
     "data": {
      "text/plain": [
       "{'Universal Pictures': 680609794,\n",
       " '20th Century Fox': 642693806,\n",
       " 'Paramount Pictures': 376705578,\n",
       " 'Columbia Pictures': 363348873,\n",
       " 'Warner Bros.': 337601229}"
      ]
     },
     "execution_count": 93,
     "metadata": {},
     "output_type": "execute_result"
    }
   ],
   "source": [
    "adventure"
   ]
  },
  {
   "cell_type": "code",
   "execution_count": 91,
   "metadata": {},
   "outputs": [
    {
     "data": {
      "image/png": "[encoded data removed]",
      "text/plain": [
       "<Figure size 432x288 with 1 Axes>"
      ]
     },
     "metadata": {
      "needs_background": "light"
     },
     "output_type": "display_data"
    }
   ],
   "source": [
    "drama = top5_studios_in_genre(drama_df)\n",
    "plt.title('Top Grossing Studios in Drama')\n",
    "sns.barplot(list(action.values()),list(action.keys()))\n",
    "plt.xlabel('Total Gross(Hundred Millions)')\n",
    "plt.ylabel('Studios')\n",
    "plt.tight_layout()\n",
    "plt.savefig('drama.png')\n",
    "plt.show()"
   ]
  },
  {
   "cell_type": "code",
   "execution_count": 92,
   "metadata": {},
   "outputs": [
    {
     "data": {
      "text/plain": [
       "{'Universal Pictures': 938177131,\n",
       " 'Columbia Pictures': 466720150,\n",
       " 'Newmarket Film Group': 402187787,\n",
       " 'Sony Pictures': 393779674,\n",
       " 'Paramount Pictures': 393746723}"
      ]
     },
     "execution_count": 92,
     "metadata": {},
     "output_type": "execute_result"
    }
   ],
   "source": [
    "drama"
   ]
  },
  {
   "cell_type": "code",
   "execution_count": 58,
   "metadata": {},
   "outputs": [
    {
     "data": {
      "text/plain": [
       "{'Universal Pictures': 938177131,\n",
       " 'Columbia Pictures': 466720150,\n",
       " 'Newmarket Film Group': 402187787,\n",
       " 'Sony Pictures': 393779674,\n",
       " 'Paramount Pictures': 393746723}"
      ]
     },
     "execution_count": 58,
     "metadata": {},
     "output_type": "execute_result"
    }
   ],
   "source": [
    "action"
   ]
  },
  {
   "cell_type": "code",
   "execution_count": 52,
   "metadata": {},
   "outputs": [
    {
     "data": {
      "text/html": [
       "<div>\n",
       "<style scoped>\n",
       "    .dataframe tbody tr th:only-of-type {\n",
       "        vertical-align: middle;\n",
       "    }\n",
       "\n",
       "    .dataframe tbody tr th {\n",
       "        vertical-align: top;\n",
       "    }\n",
       "\n",
       "    .dataframe thead th {\n",
       "        text-align: right;\n",
       "    }\n",
       "</style>\n",
       "<table border=\"1\" class=\"dataframe\">\n",
       "  <thead>\n",
       "    <tr style=\"text-align: right;\">\n",
       "      <th></th>\n",
       "      <th>title</th>\n",
       "      <th>studio</th>\n",
       "      <th>domestic_gross</th>\n",
       "      <th>foreign_gross</th>\n",
       "      <th>year</th>\n",
       "    </tr>\n",
       "  </thead>\n",
       "  <tbody>\n",
       "    <tr>\n",
       "      <td>0</td>\n",
       "      <td>Toy Story 3</td>\n",
       "      <td>BV</td>\n",
       "      <td>415000000.0</td>\n",
       "      <td>652000000</td>\n",
       "      <td>2010</td>\n",
       "    </tr>\n",
       "    <tr>\n",
       "      <td>1</td>\n",
       "      <td>Alice in Wonderland (2010)</td>\n",
       "      <td>BV</td>\n",
       "      <td>334200000.0</td>\n",
       "      <td>691300000</td>\n",
       "      <td>2010</td>\n",
       "    </tr>\n",
       "    <tr>\n",
       "      <td>2</td>\n",
       "      <td>Harry Potter and the Deathly Hallows Part 1</td>\n",
       "      <td>WB</td>\n",
       "      <td>296000000.0</td>\n",
       "      <td>664300000</td>\n",
       "      <td>2010</td>\n",
       "    </tr>\n",
       "    <tr>\n",
       "      <td>3</td>\n",
       "      <td>Inception</td>\n",
       "      <td>WB</td>\n",
       "      <td>292600000.0</td>\n",
       "      <td>535700000</td>\n",
       "      <td>2010</td>\n",
       "    </tr>\n",
       "    <tr>\n",
       "      <td>4</td>\n",
       "      <td>Shrek Forever After</td>\n",
       "      <td>P/DW</td>\n",
       "      <td>238700000.0</td>\n",
       "      <td>513900000</td>\n",
       "      <td>2010</td>\n",
       "    </tr>\n",
       "  </tbody>\n",
       "</table>\n",
       "</div>"
      ],
      "text/plain": [
       "                                         title studio  domestic_gross  \\\n",
       "0                                  Toy Story 3     BV     415000000.0   \n",
       "1                   Alice in Wonderland (2010)     BV     334200000.0   \n",
       "2  Harry Potter and the Deathly Hallows Part 1     WB     296000000.0   \n",
       "3                                    Inception     WB     292600000.0   \n",
       "4                          Shrek Forever After   P/DW     238700000.0   \n",
       "\n",
       "  foreign_gross  year  \n",
       "0     652000000  2010  \n",
       "1     691300000  2010  \n",
       "2     664300000  2010  \n",
       "3     535700000  2010  \n",
       "4     513900000  2010  "
      ]
     },
     "execution_count": 52,
     "metadata": {},
     "output_type": "execute_result"
    }
   ],
   "source": [
    "bom = pd.read_csv('Data/bom.movie_gross.csv')\n",
    "bom.head()"
   ]
  },
  {
   "cell_type": "code",
   "execution_count": 53,
   "metadata": {},
   "outputs": [],
   "source": [
    "bom.dropna(subset=['domestic_gross'],inplace=True)"
   ]
  },
  {
   "cell_type": "code",
   "execution_count": 54,
   "metadata": {},
   "outputs": [
    {
     "data": {
      "text/plain": [
       "(3359, 5)"
      ]
     },
     "execution_count": 54,
     "metadata": {},
     "output_type": "execute_result"
    }
   ],
   "source": [
    "bom.shape"
   ]
  },
  {
   "cell_type": "code",
   "execution_count": 55,
   "metadata": {},
   "outputs": [
    {
     "data": {
      "text/plain": [
       "(3359, 5)"
      ]
     },
     "execution_count": 55,
     "metadata": {},
     "output_type": "execute_result"
    }
   ],
   "source": [
    "def to_float(entry):\n",
    "    try:\n",
    "        if ',' in entry:\n",
    "            entry = entry.replace(',','')\n",
    "            entry = float(entry)\n",
    "        else:\n",
    "            entry = float(entry)\n",
    "        return entry\n",
    "    except:\n",
    "        return 0\n",
    "\n",
    "bom['foreign_gross'] = [to_float(e) for e in bom.foreign_gross]\n",
    "bom.dropna(subset=['domestic_gross'])\n",
    "bom.shape"
   ]
  },
  {
   "cell_type": "code",
   "execution_count": 223,
   "metadata": {},
   "outputs": [],
   "source": [
    "bom_studios = ['BV', 'Uni.', 'Fox', 'Sony', 'WB', 'Par.']\n",
    "\n",
    "bom_studios_info = {}\n",
    "for studio in bom_studios:\n",
    "    df = bom[bom['studio'] == studio]\n",
    "    years = (bom.year.unique())\n",
    "    bom_gross_info = {}\n",
    "    for year in years:\n",
    "        year_df = df[df['year']==year]\n",
    "        domestic_gross = sum(year_df.domestic_gross)\n",
    "        foreign_gross = sum(year_df.foreign_gross)\n",
    "        bom_gross_info[str(year)] = {'domestic':domestic_gross,'foreign':foreign_gross}\n",
    "    bom_studios_info[str(studio)] = bom_gross_info"
   ]
  },
  {
   "cell_type": "code",
   "execution_count": 224,
   "metadata": {},
   "outputs": [
    {
     "data": {
      "text/plain": [
       "{'BV': {'2010': {'domestic': 1519129200.0, 'foreign': 2652041200.0},\n",
       "  '2011': {'domestic': 1197500000.0, 'foreign': 1969300000.0},\n",
       "  '2012': {'domestic': 1575900000.0, 'foreign': 2026200000.0},\n",
       "  '2013': {'domestic': 1816400000.0, 'foreign': 3233199999.0},\n",
       "  '2014': {'domestic': 1519600000.0, 'foreign': 2401300000.0},\n",
       "  '2015': {'domestic': 2495699999.0, 'foreign': 2550112131.6},\n",
       "  '2016': {'domestic': 2871000000.0, 'foreign': 4393300000.0},\n",
       "  '2017': {'domestic': 2378200000.0, 'foreign': 3946600000.0},\n",
       "  '2018': {'domestic': 3045600000.0, 'foreign': 2621801369.5}},\n",
       " 'Uni.': {'2010': {'domestic': 872900000.0, 'foreign': 1028197000.0},\n",
       "  '2011': {'domestic': 977600000.0, 'foreign': 1251200000.0},\n",
       "  '2012': {'domestic': 1427400000.0, 'foreign': 1833999999.0},\n",
       "  '2013': {'domestic': 1468100000.0, 'foreign': 2029900000.0},\n",
       "  '2014': {'domestic': 1029800000.0, 'foreign': 1097800000.0},\n",
       "  '2015': {'domestic': 2429738000.0, 'foreign': 2029051182.4},\n",
       "  '2016': {'domestic': 1453400000.0, 'foreign': 2162722000.0},\n",
       "  '2017': {'domestic': 1453000000.0, 'foreign': 2311301010.0},\n",
       "  '2018': {'domestic': 1790455000.0, 'foreign': 3110600000.0}},\n",
       " 'Fox': {'2010': {'domestic': 964600000.0, 'foreign': 1496100000.0},\n",
       "  '2011': {'domestic': 1017200000.0, 'foreign': 1530143999.0},\n",
       "  '2012': {'domestic': 1020299999.0, 'foreign': 2129689600.0},\n",
       "  '2013': {'domestic': 1022300000.0, 'foreign': 1903300000.0},\n",
       "  '2014': {'domestic': 1814400000.0, 'foreign': 3627000000.0},\n",
       "  '2015': {'domestic': 1483499999.0, 'foreign': 2479500000.0},\n",
       "  '2016': {'domestic': 1441899999.0, 'foreign': 2622833000.0},\n",
       "  '2017': {'domestic': 1345000000.0, 'foreign': 2524100000.0},\n",
       "  '2018': {'domestic': 840300000.0, 'foreign': 1743200000.0}},\n",
       " 'Sony': {'2010': {'domestic': 918599999.0, 'foreign': 1068800000.0},\n",
       "  '2011': {'domestic': 990100000.0, 'foreign': 1386300000.0},\n",
       "  '2012': {'domestic': 1435600000.0, 'foreign': 2477900000.0},\n",
       "  '2013': {'domestic': 816799999.0, 'foreign': 1097300000.0},\n",
       "  '2014': {'domestic': 850000000.0, 'foreign': 1331299999.0},\n",
       "  '2015': {'domestic': 730011000.0, 'foreign': 1483200000.0},\n",
       "  '2016': {'domestic': 699224100.0, 'foreign': 1577000000.0},\n",
       "  '2017': {'domestic': 1062655500.0, 'foreign': 1864499999.0},\n",
       "  '2018': {'domestic': 956692500.0, 'foreign': 1658936000.0}},\n",
       " 'WB': {'2010': {'domestic': 1519073000.0, 'foreign': 2230656000.0},\n",
       "  '2011': {'domestic': 1575200000.0, 'foreign': 2275225999.0},\n",
       "  '2012': {'domestic': 1195369000.0, 'foreign': 1428526000.0},\n",
       "  '2013': {'domestic': 1115300000.0, 'foreign': 1791700000.0},\n",
       "  '2014': {'domestic': 1347639000.0, 'foreign': 1562095000.0},\n",
       "  '2015': {'domestic': 812600000.0, 'foreign': 1149600000.0},\n",
       "  '2016': {'domestic': 1394365000.0, 'foreign': 2154900000.0},\n",
       "  '2017': {'domestic': 1479400000.0, 'foreign': 2288799999.0},\n",
       "  '2018': {'domestic': 1729100000.0, 'foreign': 3786400000.0}},\n",
       " 'Par.': {'2010': {'domestic': 1102366000.0, 'foreign': 976900000.0},\n",
       "  '2011': {'domestic': 1284900000.0, 'foreign': 1837000000.0},\n",
       "  '2012': {'domestic': 486100000.0, 'foreign': 784800000.0},\n",
       "  '2013': {'domestic': 1021100000.0, 'foreign': 1417500000.0},\n",
       "  '2014': {'domestic': 1006806000.0, 'foreign': 2256399999.0},\n",
       "  '2015': {'domestic': 731506700.0, 'foreign': 1267685000.0},\n",
       "  '2016': {'domestic': 793900000.0, 'foreign': 888600000.0},\n",
       "  '2017': {'domestic': 491191999.0, 'foreign': 1247699999.0},\n",
       "  '2018': {'domestic': 768000000.0, 'foreign': 1186800000.0}}}"
      ]
     },
     "execution_count": 224,
     "metadata": {},
     "output_type": "execute_result"
    }
   ],
   "source": [
    "bom_studios_info"
   ]
  },
  {
   "cell_type": "code",
   "execution_count": 228,
   "metadata": {},
   "outputs": [],
   "source": [
    "top3 = ['BV', 'Uni.', 'Fox']\n",
    "top3_gross_dict = {}\n",
    "for studio in top3:\n",
    "    top3_gross_dict[studio] = {'domestic':[], 'foreign':[]}\n",
    "    for year in bom_studios_info[studio]:\n",
    "        information = bom_studios_info[studio][year]\n",
    "        top3_gross_dict[studio]['domestic'].append(information['domestic'])\n",
    "        top3_gross_dict[studio]['foreign'].append(information['foreign'])"
   ]
  },
  {
   "cell_type": "code",
   "execution_count": 234,
   "metadata": {},
   "outputs": [
    {
     "data": {
      "image/png": "[encoded data removed]",
      "text/plain": [
       "<Figure size 432x288 with 2 Axes>"
      ]
     },
     "metadata": {
      "needs_background": "light"
     },
     "output_type": "display_data"
    }
   ],
   "source": [
    "fig, (ax1, ax2) = plt.subplots(2,1, sharex=True, sharey=True)\n",
    "xlabels = list(range(2009,2019))\n",
    "for studio in top3_gross_dict:\n",
    "    ax1.plot(top3_gross_dict[studio]['domestic'])\n",
    "    ax2.plot(top3_gross_dict[studio]['foreign'])\n",
    "    \n",
    "    \n",
    "ax2.set_xticklabels(xlabels)\n",
    "fig.legend(['Buena Vista','Universal Pictures', '20th Century Fox'], loc='center right')\n",
    "fig.suptitle('Average Gross in Domestic and Foreign Markets by Year')\n",
    "ax1.set_title('Domestic')\n",
    "ax2.set_title('Foreign')\n",
    "ax2.set_xlabel('Year')\n",
    "fig.text(0.05,0.5, \"Average Gross(Billions)\", ha=\"center\", va=\"center\", rotation=90)\n",
    "plt.tight_layout\n",
    "plt.savefig('studiogross.png')\n",
    "plt.show()"
   ]
  },
  {
   "cell_type": "code",
   "execution_count": 227,
   "metadata": {},
   "outputs": [
    {
     "name": "stdout",
     "output_type": "stream",
     "text": [
      "{'BV': 2046558799.8888888, 'Uni.': 1433599222.2222223, 'Fox': 1216611110.7777777, 'Sony': 939964788.6666666, 'WB': 1352005111.1111112, 'Par.': 853985633.2222222} \n",
      " {'BV': 2865983855.5666666, 'Uni.': 1872752354.6, 'Fox': 2228429622.111111, 'Sony': 1549470666.4444444, 'WB': 2074211444.2222223, 'Par.': 1318153888.6666667}\n"
     ]
    }
   ],
   "source": [
    "domestic_averages = {}\n",
    "foreign_averages = {}\n",
    "for s in bom_studios_info:\n",
    "    domestic_total = 0\n",
    "    foreign_total = 0\n",
    "    n = len(bom_studios_info[s])\n",
    "    for y in bom_studios_info[s].keys():\n",
    "        domestic_total += bom_studios_info[s][y]['domestic']\n",
    "        foreign_total += bom_studios_info[s][y]['foreign']\n",
    "    domestic_averages[s] = domestic_total/n\n",
    "    foreign_averages[s] = foreign_total/n\n",
    "print(domestic_averages, \"\\n\",foreign_averages)"
   ]
  },
  {
   "cell_type": "code",
   "execution_count": 63,
   "metadata": {},
   "outputs": [
    {
     "data": {
      "text/plain": [
       "{'Uni.': {'2010': {'domestic': 872900000.0, 'foreign': 1028197000.0},\n",
       "  '2011': {'domestic': 977600000.0, 'foreign': 1251200000.0},\n",
       "  '2012': {'domestic': 1427400000.0, 'foreign': 1833999999.0},\n",
       "  '2013': {'domestic': 1468100000.0, 'foreign': 2029900000.0},\n",
       "  '2014': {'domestic': 1029800000.0, 'foreign': 1097800000.0},\n",
       "  '2015': {'domestic': 2429738000.0, 'foreign': 2029051182.4},\n",
       "  '2016': {'domestic': 1453400000.0, 'foreign': 2162722000.0},\n",
       "  '2017': {'domestic': 1453000000.0, 'foreign': 2311301010.0},\n",
       "  '2018': {'domestic': 1790455000.0, 'foreign': 3110600000.0}},\n",
       " 'P/DW': {'2010': {'domestic': 677700000.0, 'foreign': 978500000.0},\n",
       "  '2011': {'domestic': 666900000.0, 'foreign': 1677500000.0},\n",
       "  '2012': {'domestic': 338300000.0, 'foreign': 737600000.0},\n",
       "  '2013': {'domestic': 0, 'foreign': 0},\n",
       "  '2014': {'domestic': 0, 'foreign': 0},\n",
       "  '2015': {'domestic': 0, 'foreign': 0},\n",
       "  '2016': {'domestic': 0, 'foreign': 0},\n",
       "  '2017': {'domestic': 0, 'foreign': 0},\n",
       "  '2018': {'domestic': 0, 'foreign': 0}},\n",
       " 'Sony': {'2010': {'domestic': 918599999.0, 'foreign': 1068800000.0},\n",
       "  '2011': {'domestic': 990100000.0, 'foreign': 1386300000.0},\n",
       "  '2012': {'domestic': 1435600000.0, 'foreign': 2477900000.0},\n",
       "  '2013': {'domestic': 816799999.0, 'foreign': 1097300000.0},\n",
       "  '2014': {'domestic': 850000000.0, 'foreign': 1331299999.0},\n",
       "  '2015': {'domestic': 730011000.0, 'foreign': 1483200000.0},\n",
       "  '2016': {'domestic': 699224100.0, 'foreign': 1577000000.0},\n",
       "  '2017': {'domestic': 1062655500.0, 'foreign': 1864499999.0},\n",
       "  '2018': {'domestic': 956692500.0, 'foreign': 1658936000.0}},\n",
       " 'Fox': {'2010': {'domestic': 964600000.0, 'foreign': 1496100000.0},\n",
       "  '2011': {'domestic': 1017200000.0, 'foreign': 1530143999.0},\n",
       "  '2012': {'domestic': 1020299999.0, 'foreign': 2129689600.0},\n",
       "  '2013': {'domestic': 1022300000.0, 'foreign': 1903300000.0},\n",
       "  '2014': {'domestic': 1814400000.0, 'foreign': 3627000000.0},\n",
       "  '2015': {'domestic': 1483499999.0, 'foreign': 2479500000.0},\n",
       "  '2016': {'domestic': 1441899999.0, 'foreign': 2622833000.0},\n",
       "  '2017': {'domestic': 1345000000.0, 'foreign': 2524100000.0},\n",
       "  '2018': {'domestic': 840300000.0, 'foreign': 1743200000.0}},\n",
       " 'NM': {'2010': {'domestic': 960000.0, 'foreign': 38955000.0},\n",
       "  '2011': {'domestic': 2700000.0, 'foreign': 17600000.0},\n",
       "  '2012': {'domestic': 0, 'foreign': 0},\n",
       "  '2013': {'domestic': 0, 'foreign': 0},\n",
       "  '2014': {'domestic': 0, 'foreign': 0},\n",
       "  '2015': {'domestic': 0, 'foreign': 0},\n",
       "  '2016': {'domestic': 0, 'foreign': 0},\n",
       "  '2017': {'domestic': 0, 'foreign': 0},\n",
       "  '2018': {'domestic': 0, 'foreign': 0}},\n",
       " 'WB': {'2010': {'domestic': 1519073000.0, 'foreign': 2230656000.0},\n",
       "  '2011': {'domestic': 1575200000.0, 'foreign': 2275225999.0},\n",
       "  '2012': {'domestic': 1195369000.0, 'foreign': 1428526000.0},\n",
       "  '2013': {'domestic': 1115300000.0, 'foreign': 1791700000.0},\n",
       "  '2014': {'domestic': 1347639000.0, 'foreign': 1562095000.0},\n",
       "  '2015': {'domestic': 812600000.0, 'foreign': 1149600000.0},\n",
       "  '2016': {'domestic': 1394365000.0, 'foreign': 2154900000.0},\n",
       "  '2017': {'domestic': 1479400000.0, 'foreign': 2288799999.0},\n",
       "  '2018': {'domestic': 1729100000.0, 'foreign': 3786400000.0}}}"
      ]
     },
     "execution_count": 63,
     "metadata": {},
     "output_type": "execute_result"
    }
   ],
   "source": [
    "bom_studios_info"
   ]
  },
  {
   "cell_type": "code",
   "execution_count": null,
   "metadata": {},
   "outputs": [],
   "source": []
  }
 ],
 "metadata": {
  "kernelspec": {
   "display_name": "Python 3",
   "language": "python",
   "name": "python3"
  },
  "language_info": {
   "codemirror_mode": {
    "name": "ipython",
    "version": 3
   },
   "file_extension": ".py",
   "mimetype": "text/x-python",
   "name": "python",
   "nbconvert_exporter": "python",
   "pygments_lexer": "ipython3",
   "version": "3.7.4"
  }
 },
 "nbformat": 4,
 "nbformat_minor": 4
}
