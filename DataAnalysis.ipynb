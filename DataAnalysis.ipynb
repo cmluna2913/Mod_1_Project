{
 "cells": [
  {
   "cell_type": "markdown",
   "metadata": {},
   "source": [
    "# Importing our needed Libraries and Dataframes"
   ]
  },
  {
   "cell_type": "code",
   "execution_count": 1,
   "metadata": {},
   "outputs": [],
   "source": [
    "import pandas as pd\n",
    "import seaborn as sns\n",
    "import matplotlib.pyplot as plt\n",
    "import numpy as np\n",
    "import itertools"
   ]
  },
  {
   "cell_type": "code",
   "execution_count": 2,
   "metadata": {},
   "outputs": [],
   "source": [
    "#our 3 dataframes\n",
    "title_basics = pd.read_csv('Data/title.basics.csv')\n",
    "bom = pd.read_csv('Data/bom.movie_gross.csv')\n",
    "tn_movie_budgets = pd.read_csv('Data/tn.movie_budgets.csv')"
   ]
  },
  {
   "cell_type": "markdown",
   "metadata": {},
   "source": [
    "# Defining some of the functions we need"
   ]
  },
  {
   "cell_type": "code",
   "execution_count": 3,
   "metadata": {},
   "outputs": [],
   "source": [
    "def to_float_only(entry):\n",
    "    '''Turns a number in string format\n",
    "    $123,456 to a float.\n",
    "    \n",
    "    Parameters:\n",
    "    entry -- the string we want to change\n",
    "    '''\n",
    "    entry = entry.replace('$', '').replace(',', '')\n",
    "    return float(entry)"
   ]
  },
  {
   "cell_type": "markdown",
   "metadata": {},
   "source": [
    "Given a dataframe, I want to find the cumulative gross per years.\n",
    "This will be used when we are trying to find the cumulative gross\n",
    "per year for each genre."
   ]
  },
  {
   "cell_type": "code",
   "execution_count": 4,
   "metadata": {},
   "outputs": [],
   "source": [
    "def gross_per_year(df):\n",
    "    '''Return a dictionary of cumulitive gross per years.\n",
    "    \n",
    "    Parameters:\n",
    "    df -- Dataframe\n",
    "    '''\n",
    "    #make empty dictionary to store our key:value pairs\n",
    "    gross_info = {}\n",
    "    #get the years for each genre\n",
    "    years = sorted(list(df.year.unique()))\n",
    "    for year in years:\n",
    "        #only get the information relevant to our year\n",
    "        year_group = df[df['year']==year]\n",
    "        #get total gross\n",
    "        total = sum(year_group.domestic_gross) + sum(year_group.foreign_gross)\n",
    "        #make our year and its total gross as a key:value pair\n",
    "        gross_info[str(year)] = total\n",
    "    return gross_info"
   ]
  },
  {
   "cell_type": "markdown",
   "metadata": {},
   "source": [
    "We will use this to get the top 5 grossing studios per genre later."
   ]
  },
  {
   "cell_type": "code",
   "execution_count": 5,
   "metadata": {},
   "outputs": [],
   "source": [
    "def top5_studios_in_genre(df):\n",
    "    '''\n",
    "    Get a dictionary of the 5 studios with the highest gross amounts\n",
    "    \n",
    "    Parameteres:\n",
    "    df -- Dataframe\n",
    "    '''\n",
    "    #make empty dictionary to store our key:value pairs\n",
    "    studio_info = {}\n",
    "    #get our unique studios\n",
    "    studios = list(df.studio.unique())\n",
    "    for studio in studios:\n",
    "        #only get the information relevant to our studio\n",
    "        studio_group = df[df['studio']==studio]\n",
    "        #get the studio's total gross\n",
    "        total=sum(studio_group.domestic_gross) + sum(studio_group.foreign_gross)\n",
    "        #make our studio and its total gross as a key:value pair\n",
    "        studio_info[studio]=total\n",
    "    #sort our studios and get the top 5\n",
    "    sorted_studios = {s: g for s, g in sorted(studio_info.items(), \n",
    "                                              key=lambda item: item[1],\n",
    "                                              reverse=True)}\n",
    "    top5 = dict(itertools.islice(sorted_studios.items(),\n",
    "                                 5))\n",
    "    return top5"
   ]
  },
  {
   "cell_type": "markdown",
   "metadata": {},
   "source": [
    "# Data Merging and Cleaning"
   ]
  },
  {
   "cell_type": "markdown",
   "metadata": {},
   "source": [
    "merging our dataframes to get the genres related to our movie"
   ]
  },
  {
   "cell_type": "code",
   "execution_count": 6,
   "metadata": {},
   "outputs": [
    {
     "data": {
      "text/html": [
       "<div>\n",
       "<style scoped>\n",
       "    .dataframe tbody tr th:only-of-type {\n",
       "        vertical-align: middle;\n",
       "    }\n",
       "\n",
       "    .dataframe tbody tr th {\n",
       "        vertical-align: top;\n",
       "    }\n",
       "\n",
       "    .dataframe thead th {\n",
       "        text-align: right;\n",
       "    }\n",
       "</style>\n",
       "<table border=\"1\" class=\"dataframe\">\n",
       "  <thead>\n",
       "    <tr style=\"text-align: right;\">\n",
       "      <th></th>\n",
       "      <th>title</th>\n",
       "      <th>studio</th>\n",
       "      <th>domestic_gross</th>\n",
       "      <th>foreign_gross</th>\n",
       "      <th>year</th>\n",
       "      <th>tconst</th>\n",
       "      <th>primary_title</th>\n",
       "      <th>original_title</th>\n",
       "      <th>start_year</th>\n",
       "      <th>runtime_minutes</th>\n",
       "      <th>genres</th>\n",
       "    </tr>\n",
       "  </thead>\n",
       "  <tbody>\n",
       "    <tr>\n",
       "      <td>0</td>\n",
       "      <td>Toy Story 3</td>\n",
       "      <td>BV</td>\n",
       "      <td>415000000.0</td>\n",
       "      <td>652000000</td>\n",
       "      <td>2010</td>\n",
       "      <td>tt0435761</td>\n",
       "      <td>Toy Story 3</td>\n",
       "      <td>Toy Story 3</td>\n",
       "      <td>2010</td>\n",
       "      <td>103.0</td>\n",
       "      <td>Adventure,Animation,Comedy</td>\n",
       "    </tr>\n",
       "    <tr>\n",
       "      <td>1</td>\n",
       "      <td>Inception</td>\n",
       "      <td>WB</td>\n",
       "      <td>292600000.0</td>\n",
       "      <td>535700000</td>\n",
       "      <td>2010</td>\n",
       "      <td>tt1375666</td>\n",
       "      <td>Inception</td>\n",
       "      <td>Inception</td>\n",
       "      <td>2010</td>\n",
       "      <td>148.0</td>\n",
       "      <td>Action,Adventure,Sci-Fi</td>\n",
       "    </tr>\n",
       "    <tr>\n",
       "      <td>2</td>\n",
       "      <td>Shrek Forever After</td>\n",
       "      <td>P/DW</td>\n",
       "      <td>238700000.0</td>\n",
       "      <td>513900000</td>\n",
       "      <td>2010</td>\n",
       "      <td>tt0892791</td>\n",
       "      <td>Shrek Forever After</td>\n",
       "      <td>Shrek Forever After</td>\n",
       "      <td>2010</td>\n",
       "      <td>93.0</td>\n",
       "      <td>Adventure,Animation,Comedy</td>\n",
       "    </tr>\n",
       "    <tr>\n",
       "      <td>3</td>\n",
       "      <td>The Twilight Saga: Eclipse</td>\n",
       "      <td>Sum.</td>\n",
       "      <td>300500000.0</td>\n",
       "      <td>398000000</td>\n",
       "      <td>2010</td>\n",
       "      <td>tt1325004</td>\n",
       "      <td>The Twilight Saga: Eclipse</td>\n",
       "      <td>The Twilight Saga: Eclipse</td>\n",
       "      <td>2010</td>\n",
       "      <td>124.0</td>\n",
       "      <td>Adventure,Drama,Fantasy</td>\n",
       "    </tr>\n",
       "    <tr>\n",
       "      <td>4</td>\n",
       "      <td>Iron Man 2</td>\n",
       "      <td>Par.</td>\n",
       "      <td>312400000.0</td>\n",
       "      <td>311500000</td>\n",
       "      <td>2010</td>\n",
       "      <td>tt1228705</td>\n",
       "      <td>Iron Man 2</td>\n",
       "      <td>Iron Man 2</td>\n",
       "      <td>2010</td>\n",
       "      <td>124.0</td>\n",
       "      <td>Action,Adventure,Sci-Fi</td>\n",
       "    </tr>\n",
       "  </tbody>\n",
       "</table>\n",
       "</div>"
      ],
      "text/plain": [
       "                        title studio  domestic_gross foreign_gross  year  \\\n",
       "0                 Toy Story 3     BV     415000000.0     652000000  2010   \n",
       "1                   Inception     WB     292600000.0     535700000  2010   \n",
       "2         Shrek Forever After   P/DW     238700000.0     513900000  2010   \n",
       "3  The Twilight Saga: Eclipse   Sum.     300500000.0     398000000  2010   \n",
       "4                  Iron Man 2   Par.     312400000.0     311500000  2010   \n",
       "\n",
       "      tconst               primary_title              original_title  \\\n",
       "0  tt0435761                 Toy Story 3                 Toy Story 3   \n",
       "1  tt1375666                   Inception                   Inception   \n",
       "2  tt0892791         Shrek Forever After         Shrek Forever After   \n",
       "3  tt1325004  The Twilight Saga: Eclipse  The Twilight Saga: Eclipse   \n",
       "4  tt1228705                  Iron Man 2                  Iron Man 2   \n",
       "\n",
       "   start_year  runtime_minutes                      genres  \n",
       "0        2010            103.0  Adventure,Animation,Comedy  \n",
       "1        2010            148.0     Action,Adventure,Sci-Fi  \n",
       "2        2010             93.0  Adventure,Animation,Comedy  \n",
       "3        2010            124.0     Adventure,Drama,Fantasy  \n",
       "4        2010            124.0     Action,Adventure,Sci-Fi  "
      ]
     },
     "execution_count": 6,
     "metadata": {},
     "output_type": "execute_result"
    }
   ],
   "source": [
    "new_df = bom.merge(title_basics, how='inner', left_on='title', right_on='primary_title')\n",
    "new_df.head()"
   ]
  },
  {
   "cell_type": "markdown",
   "metadata": {},
   "source": [
    "Cleaning our data to drop missing information\n",
    "and to convert our values to the correct format."
   ]
  },
  {
   "cell_type": "code",
   "execution_count": 7,
   "metadata": {},
   "outputs": [],
   "source": [
    "new_df.dropna(subset=['genres', 'domestic_gross','foreign_gross'],inplace=True)\n",
    "def to_float_only(entry):\n",
    "    entry = entry.replace('$', '').replace(',', '')\n",
    "    return float(entry)\n",
    "\n",
    "new_df['foreign_gross'] = [to_float_only(c) for c in new_df.foreign_gross]"
   ]
  },
  {
   "cell_type": "markdown",
   "metadata": {},
   "source": [
    "creating a dataframe that gives us our production,\n",
    "domestic, and worldwide gross so we can calculate\n",
    "income later."
   ]
  },
  {
   "cell_type": "code",
   "execution_count": 8,
   "metadata": {},
   "outputs": [
    {
     "data": {
      "text/html": [
       "<div>\n",
       "<style scoped>\n",
       "    .dataframe tbody tr th:only-of-type {\n",
       "        vertical-align: middle;\n",
       "    }\n",
       "\n",
       "    .dataframe tbody tr th {\n",
       "        vertical-align: top;\n",
       "    }\n",
       "\n",
       "    .dataframe thead th {\n",
       "        text-align: right;\n",
       "    }\n",
       "</style>\n",
       "<table border=\"1\" class=\"dataframe\">\n",
       "  <thead>\n",
       "    <tr style=\"text-align: right;\">\n",
       "      <th></th>\n",
       "      <th>title</th>\n",
       "      <th>studio</th>\n",
       "      <th>domestic_gross_x</th>\n",
       "      <th>foreign_gross</th>\n",
       "      <th>year</th>\n",
       "      <th>tconst</th>\n",
       "      <th>primary_title</th>\n",
       "      <th>original_title</th>\n",
       "      <th>start_year</th>\n",
       "      <th>runtime_minutes</th>\n",
       "      <th>genres</th>\n",
       "      <th>id</th>\n",
       "      <th>release_date</th>\n",
       "      <th>movie</th>\n",
       "      <th>production_budget</th>\n",
       "      <th>domestic_gross_y</th>\n",
       "      <th>worldwide_gross</th>\n",
       "    </tr>\n",
       "  </thead>\n",
       "  <tbody>\n",
       "    <tr>\n",
       "      <td>0</td>\n",
       "      <td>Toy Story 3</td>\n",
       "      <td>BV</td>\n",
       "      <td>415000000.0</td>\n",
       "      <td>652000000.0</td>\n",
       "      <td>2010</td>\n",
       "      <td>tt0435761</td>\n",
       "      <td>Toy Story 3</td>\n",
       "      <td>Toy Story 3</td>\n",
       "      <td>2010</td>\n",
       "      <td>103.0</td>\n",
       "      <td>Adventure,Animation,Comedy</td>\n",
       "      <td>47</td>\n",
       "      <td>Jun 18, 2010</td>\n",
       "      <td>Toy Story 3</td>\n",
       "      <td>$200,000,000</td>\n",
       "      <td>$415,004,880</td>\n",
       "      <td>$1,068,879,522</td>\n",
       "    </tr>\n",
       "    <tr>\n",
       "      <td>1</td>\n",
       "      <td>Inception</td>\n",
       "      <td>WB</td>\n",
       "      <td>292600000.0</td>\n",
       "      <td>535700000.0</td>\n",
       "      <td>2010</td>\n",
       "      <td>tt1375666</td>\n",
       "      <td>Inception</td>\n",
       "      <td>Inception</td>\n",
       "      <td>2010</td>\n",
       "      <td>148.0</td>\n",
       "      <td>Action,Adventure,Sci-Fi</td>\n",
       "      <td>38</td>\n",
       "      <td>Jul 16, 2010</td>\n",
       "      <td>Inception</td>\n",
       "      <td>$160,000,000</td>\n",
       "      <td>$292,576,195</td>\n",
       "      <td>$835,524,642</td>\n",
       "    </tr>\n",
       "    <tr>\n",
       "      <td>2</td>\n",
       "      <td>Shrek Forever After</td>\n",
       "      <td>P/DW</td>\n",
       "      <td>238700000.0</td>\n",
       "      <td>513900000.0</td>\n",
       "      <td>2010</td>\n",
       "      <td>tt0892791</td>\n",
       "      <td>Shrek Forever After</td>\n",
       "      <td>Shrek Forever After</td>\n",
       "      <td>2010</td>\n",
       "      <td>93.0</td>\n",
       "      <td>Adventure,Animation,Comedy</td>\n",
       "      <td>27</td>\n",
       "      <td>May 21, 2010</td>\n",
       "      <td>Shrek Forever After</td>\n",
       "      <td>$165,000,000</td>\n",
       "      <td>$238,736,787</td>\n",
       "      <td>$756,244,673</td>\n",
       "    </tr>\n",
       "    <tr>\n",
       "      <td>3</td>\n",
       "      <td>The Twilight Saga: Eclipse</td>\n",
       "      <td>Sum.</td>\n",
       "      <td>300500000.0</td>\n",
       "      <td>398000000.0</td>\n",
       "      <td>2010</td>\n",
       "      <td>tt1325004</td>\n",
       "      <td>The Twilight Saga: Eclipse</td>\n",
       "      <td>The Twilight Saga: Eclipse</td>\n",
       "      <td>2010</td>\n",
       "      <td>124.0</td>\n",
       "      <td>Adventure,Drama,Fantasy</td>\n",
       "      <td>53</td>\n",
       "      <td>Jun 30, 2010</td>\n",
       "      <td>The Twilight Saga: Eclipse</td>\n",
       "      <td>$68,000,000</td>\n",
       "      <td>$300,531,751</td>\n",
       "      <td>$706,102,828</td>\n",
       "    </tr>\n",
       "    <tr>\n",
       "      <td>4</td>\n",
       "      <td>Iron Man 2</td>\n",
       "      <td>Par.</td>\n",
       "      <td>312400000.0</td>\n",
       "      <td>311500000.0</td>\n",
       "      <td>2010</td>\n",
       "      <td>tt1228705</td>\n",
       "      <td>Iron Man 2</td>\n",
       "      <td>Iron Man 2</td>\n",
       "      <td>2010</td>\n",
       "      <td>124.0</td>\n",
       "      <td>Action,Adventure,Sci-Fi</td>\n",
       "      <td>15</td>\n",
       "      <td>May 7, 2010</td>\n",
       "      <td>Iron Man 2</td>\n",
       "      <td>$170,000,000</td>\n",
       "      <td>$312,433,331</td>\n",
       "      <td>$621,156,389</td>\n",
       "    </tr>\n",
       "  </tbody>\n",
       "</table>\n",
       "</div>"
      ],
      "text/plain": [
       "                        title studio  domestic_gross_x  foreign_gross  year  \\\n",
       "0                 Toy Story 3     BV       415000000.0    652000000.0  2010   \n",
       "1                   Inception     WB       292600000.0    535700000.0  2010   \n",
       "2         Shrek Forever After   P/DW       238700000.0    513900000.0  2010   \n",
       "3  The Twilight Saga: Eclipse   Sum.       300500000.0    398000000.0  2010   \n",
       "4                  Iron Man 2   Par.       312400000.0    311500000.0  2010   \n",
       "\n",
       "      tconst               primary_title              original_title  \\\n",
       "0  tt0435761                 Toy Story 3                 Toy Story 3   \n",
       "1  tt1375666                   Inception                   Inception   \n",
       "2  tt0892791         Shrek Forever After         Shrek Forever After   \n",
       "3  tt1325004  The Twilight Saga: Eclipse  The Twilight Saga: Eclipse   \n",
       "4  tt1228705                  Iron Man 2                  Iron Man 2   \n",
       "\n",
       "   start_year  runtime_minutes                      genres  id  release_date  \\\n",
       "0        2010            103.0  Adventure,Animation,Comedy  47  Jun 18, 2010   \n",
       "1        2010            148.0     Action,Adventure,Sci-Fi  38  Jul 16, 2010   \n",
       "2        2010             93.0  Adventure,Animation,Comedy  27  May 21, 2010   \n",
       "3        2010            124.0     Adventure,Drama,Fantasy  53  Jun 30, 2010   \n",
       "4        2010            124.0     Action,Adventure,Sci-Fi  15   May 7, 2010   \n",
       "\n",
       "                        movie production_budget domestic_gross_y  \\\n",
       "0                 Toy Story 3      $200,000,000     $415,004,880   \n",
       "1                   Inception      $160,000,000     $292,576,195   \n",
       "2         Shrek Forever After      $165,000,000     $238,736,787   \n",
       "3  The Twilight Saga: Eclipse       $68,000,000     $300,531,751   \n",
       "4                  Iron Man 2      $170,000,000     $312,433,331   \n",
       "\n",
       "  worldwide_gross  \n",
       "0  $1,068,879,522  \n",
       "1    $835,524,642  \n",
       "2    $756,244,673  \n",
       "3    $706,102,828  \n",
       "4    $621,156,389  "
      ]
     },
     "execution_count": 8,
     "metadata": {},
     "output_type": "execute_result"
    }
   ],
   "source": [
    "income_df = new_df.merge(tn_movie_budgets, how='inner', left_on='title', right_on='movie')\n",
    "income_df.head()"
   ]
  },
  {
   "cell_type": "markdown",
   "metadata": {},
   "source": [
    "Cleaning up to drop missing information and convert to the correct format."
   ]
  },
  {
   "cell_type": "code",
   "execution_count": 9,
   "metadata": {},
   "outputs": [
    {
     "data": {
      "text/html": [
       "<div>\n",
       "<style scoped>\n",
       "    .dataframe tbody tr th:only-of-type {\n",
       "        vertical-align: middle;\n",
       "    }\n",
       "\n",
       "    .dataframe tbody tr th {\n",
       "        vertical-align: top;\n",
       "    }\n",
       "\n",
       "    .dataframe thead th {\n",
       "        text-align: right;\n",
       "    }\n",
       "</style>\n",
       "<table border=\"1\" class=\"dataframe\">\n",
       "  <thead>\n",
       "    <tr style=\"text-align: right;\">\n",
       "      <th></th>\n",
       "      <th>title</th>\n",
       "      <th>studio</th>\n",
       "      <th>domestic_gross_x</th>\n",
       "      <th>foreign_gross</th>\n",
       "      <th>year</th>\n",
       "      <th>tconst</th>\n",
       "      <th>primary_title</th>\n",
       "      <th>original_title</th>\n",
       "      <th>start_year</th>\n",
       "      <th>runtime_minutes</th>\n",
       "      <th>genres</th>\n",
       "      <th>id</th>\n",
       "      <th>release_date</th>\n",
       "      <th>movie</th>\n",
       "      <th>production_budget</th>\n",
       "      <th>domestic_gross_y</th>\n",
       "      <th>worldwide_gross</th>\n",
       "    </tr>\n",
       "  </thead>\n",
       "  <tbody>\n",
       "    <tr>\n",
       "      <td>0</td>\n",
       "      <td>Toy Story 3</td>\n",
       "      <td>BV</td>\n",
       "      <td>415000000.0</td>\n",
       "      <td>652000000.0</td>\n",
       "      <td>2010</td>\n",
       "      <td>tt0435761</td>\n",
       "      <td>Toy Story 3</td>\n",
       "      <td>Toy Story 3</td>\n",
       "      <td>2010</td>\n",
       "      <td>103.0</td>\n",
       "      <td>Adventure,Animation,Comedy</td>\n",
       "      <td>47</td>\n",
       "      <td>Jun 18, 2010</td>\n",
       "      <td>Toy Story 3</td>\n",
       "      <td>200000000.0</td>\n",
       "      <td>$415,004,880</td>\n",
       "      <td>1.068880e+09</td>\n",
       "    </tr>\n",
       "    <tr>\n",
       "      <td>1</td>\n",
       "      <td>Inception</td>\n",
       "      <td>WB</td>\n",
       "      <td>292600000.0</td>\n",
       "      <td>535700000.0</td>\n",
       "      <td>2010</td>\n",
       "      <td>tt1375666</td>\n",
       "      <td>Inception</td>\n",
       "      <td>Inception</td>\n",
       "      <td>2010</td>\n",
       "      <td>148.0</td>\n",
       "      <td>Action,Adventure,Sci-Fi</td>\n",
       "      <td>38</td>\n",
       "      <td>Jul 16, 2010</td>\n",
       "      <td>Inception</td>\n",
       "      <td>160000000.0</td>\n",
       "      <td>$292,576,195</td>\n",
       "      <td>8.355246e+08</td>\n",
       "    </tr>\n",
       "    <tr>\n",
       "      <td>2</td>\n",
       "      <td>Shrek Forever After</td>\n",
       "      <td>P/DW</td>\n",
       "      <td>238700000.0</td>\n",
       "      <td>513900000.0</td>\n",
       "      <td>2010</td>\n",
       "      <td>tt0892791</td>\n",
       "      <td>Shrek Forever After</td>\n",
       "      <td>Shrek Forever After</td>\n",
       "      <td>2010</td>\n",
       "      <td>93.0</td>\n",
       "      <td>Adventure,Animation,Comedy</td>\n",
       "      <td>27</td>\n",
       "      <td>May 21, 2010</td>\n",
       "      <td>Shrek Forever After</td>\n",
       "      <td>165000000.0</td>\n",
       "      <td>$238,736,787</td>\n",
       "      <td>7.562447e+08</td>\n",
       "    </tr>\n",
       "    <tr>\n",
       "      <td>3</td>\n",
       "      <td>The Twilight Saga: Eclipse</td>\n",
       "      <td>Sum.</td>\n",
       "      <td>300500000.0</td>\n",
       "      <td>398000000.0</td>\n",
       "      <td>2010</td>\n",
       "      <td>tt1325004</td>\n",
       "      <td>The Twilight Saga: Eclipse</td>\n",
       "      <td>The Twilight Saga: Eclipse</td>\n",
       "      <td>2010</td>\n",
       "      <td>124.0</td>\n",
       "      <td>Adventure,Drama,Fantasy</td>\n",
       "      <td>53</td>\n",
       "      <td>Jun 30, 2010</td>\n",
       "      <td>The Twilight Saga: Eclipse</td>\n",
       "      <td>68000000.0</td>\n",
       "      <td>$300,531,751</td>\n",
       "      <td>7.061028e+08</td>\n",
       "    </tr>\n",
       "    <tr>\n",
       "      <td>4</td>\n",
       "      <td>Iron Man 2</td>\n",
       "      <td>Par.</td>\n",
       "      <td>312400000.0</td>\n",
       "      <td>311500000.0</td>\n",
       "      <td>2010</td>\n",
       "      <td>tt1228705</td>\n",
       "      <td>Iron Man 2</td>\n",
       "      <td>Iron Man 2</td>\n",
       "      <td>2010</td>\n",
       "      <td>124.0</td>\n",
       "      <td>Action,Adventure,Sci-Fi</td>\n",
       "      <td>15</td>\n",
       "      <td>May 7, 2010</td>\n",
       "      <td>Iron Man 2</td>\n",
       "      <td>170000000.0</td>\n",
       "      <td>$312,433,331</td>\n",
       "      <td>6.211564e+08</td>\n",
       "    </tr>\n",
       "  </tbody>\n",
       "</table>\n",
       "</div>"
      ],
      "text/plain": [
       "                        title studio  domestic_gross_x  foreign_gross  year  \\\n",
       "0                 Toy Story 3     BV       415000000.0    652000000.0  2010   \n",
       "1                   Inception     WB       292600000.0    535700000.0  2010   \n",
       "2         Shrek Forever After   P/DW       238700000.0    513900000.0  2010   \n",
       "3  The Twilight Saga: Eclipse   Sum.       300500000.0    398000000.0  2010   \n",
       "4                  Iron Man 2   Par.       312400000.0    311500000.0  2010   \n",
       "\n",
       "      tconst               primary_title              original_title  \\\n",
       "0  tt0435761                 Toy Story 3                 Toy Story 3   \n",
       "1  tt1375666                   Inception                   Inception   \n",
       "2  tt0892791         Shrek Forever After         Shrek Forever After   \n",
       "3  tt1325004  The Twilight Saga: Eclipse  The Twilight Saga: Eclipse   \n",
       "4  tt1228705                  Iron Man 2                  Iron Man 2   \n",
       "\n",
       "   start_year  runtime_minutes                      genres  id  release_date  \\\n",
       "0        2010            103.0  Adventure,Animation,Comedy  47  Jun 18, 2010   \n",
       "1        2010            148.0     Action,Adventure,Sci-Fi  38  Jul 16, 2010   \n",
       "2        2010             93.0  Adventure,Animation,Comedy  27  May 21, 2010   \n",
       "3        2010            124.0     Adventure,Drama,Fantasy  53  Jun 30, 2010   \n",
       "4        2010            124.0     Action,Adventure,Sci-Fi  15   May 7, 2010   \n",
       "\n",
       "                        movie  production_budget domestic_gross_y  \\\n",
       "0                 Toy Story 3        200000000.0     $415,004,880   \n",
       "1                   Inception        160000000.0     $292,576,195   \n",
       "2         Shrek Forever After        165000000.0     $238,736,787   \n",
       "3  The Twilight Saga: Eclipse         68000000.0     $300,531,751   \n",
       "4                  Iron Man 2        170000000.0     $312,433,331   \n",
       "\n",
       "   worldwide_gross  \n",
       "0     1.068880e+09  \n",
       "1     8.355246e+08  \n",
       "2     7.562447e+08  \n",
       "3     7.061028e+08  \n",
       "4     6.211564e+08  "
      ]
     },
     "execution_count": 9,
     "metadata": {},
     "output_type": "execute_result"
    }
   ],
   "source": [
    "income_df.dropna(subset=['production_budget', 'worldwide_gross'],inplace=True)\n",
    "income_df['production_budget'] = [to_float_only(pb) for pb in income_df.production_budget]\n",
    "income_df['worldwide_gross'] = [to_float_only(wg) for wg in income_df.worldwide_gross]\n",
    "income_df.head()"
   ]
  },
  {
   "cell_type": "markdown",
   "metadata": {},
   "source": [
    "title_basics has more elements with their involved genres.\n",
    "It would be best to get our total genre count from this database."
   ]
  },
  {
   "cell_type": "code",
   "execution_count": 10,
   "metadata": {},
   "outputs": [],
   "source": [
    "title_basics.dropna(subset=['genres'],inplace=True)"
   ]
  },
  {
   "cell_type": "markdown",
   "metadata": {},
   "source": [
    "# Getting Top Genres"
   ]
  },
  {
   "cell_type": "code",
   "execution_count": 11,
   "metadata": {},
   "outputs": [],
   "source": [
    "'''\n",
    "Empty dictionary to store our key:value pairs\n",
    "for each genre and its count.\n",
    "'''\n",
    "genre_counts = {}\n",
    "for genrelist in title_basics['genres']:\n",
    "    '''\n",
    "    Since genres are given in an a,b,c format,\n",
    "    we will separate the genres in each entry \n",
    "    and get the total count from there.\n",
    "    '''\n",
    "    genrelist = genrelist.split(',')\n",
    "    for genre in genrelist:\n",
    "        if genre not in genre_counts:\n",
    "            genre_counts[genre] = 1\n",
    "        else:\n",
    "            genre_counts[genre] += 1"
   ]
  },
  {
   "cell_type": "code",
   "execution_count": 12,
   "metadata": {},
   "outputs": [],
   "source": [
    "#sort our genres in descending order\n",
    "sorted_genres = dict(sorted(genre_counts.items(),\n",
    "                            key=lambda x: x[1],\n",
    "                            reverse=True))"
   ]
  },
  {
   "cell_type": "code",
   "execution_count": 13,
   "metadata": {},
   "outputs": [],
   "source": [
    "#get our top 10genres\n",
    "top10 = dict(itertools.islice(sorted_genres.items(), 10)) \n",
    "top10genres = list(top10.keys())"
   ]
  },
  {
   "cell_type": "markdown",
   "metadata": {},
   "source": [
    "For our top 10 genres, we want to get the total gross information\n",
    "for each year for each genre.\n"
   ]
  },
  {
   "cell_type": "code",
   "execution_count": 14,
   "metadata": {},
   "outputs": [],
   "source": [
    "genre_gross_info = {}\n",
    "for genre in top10genres:\n",
    "    genre_df = new_df[new_df['genres'].str.contains(genre)]\n",
    "    genre_gross_info[str(genre)] = gross_per_year(genre_df)"
   ]
  },
  {
   "cell_type": "markdown",
   "metadata": {},
   "source": [
    "For our top 10 genres, we want to get the total gross information\n",
    "overall for each genre."
   ]
  },
  {
   "cell_type": "code",
   "execution_count": 15,
   "metadata": {},
   "outputs": [],
   "source": [
    "genre_total_gross_info = {}\n",
    "for genre in genre_gross_info:\n",
    "    genre_total_gross_info[genre] = sum(genre_gross_info[genre].values())"
   ]
  },
  {
   "cell_type": "code",
   "execution_count": 16,
   "metadata": {},
   "outputs": [
    {
     "data": {
      "image/png": "[encoded data removed]",
      "text/plain": [
       "<Figure size 432x288 with 1 Axes>"
      ]
     },
     "metadata": {
      "needs_background": "light"
     },
     "output_type": "display_data"
    }
   ],
   "source": [
    "#plot our top 10 genres\n",
    "genrex = list(top10.values())\n",
    "genrey = list(top10.keys())\n",
    "sns.barplot(genrex, genrey)\n",
    "plt.ylabel('Genre')\n",
    "plt.xlabel('Number of Movies Made')\n",
    "plt.title('Number of Movies Per Genre')\n",
    "plt.tight_layout()\n",
    "'''\n",
    "After getting each genres gross info,\n",
    "I highlighted our top 4 genres.\n",
    "'''\n",
    "plt.gca().get_yticklabels()[1].set_color(\"red\")\n",
    "plt.gca().get_yticklabels()[2].set_color(\"red\")\n",
    "plt.gca().get_yticklabels()[5].set_color(\"red\")\n",
    "plt.gca().get_yticklabels()[9].set_color(\"red\")\n",
    "#save our figure\n",
    "plt.savefig('images/top10genres.png')\n",
    "plt.show()"
   ]
  },
  {
   "cell_type": "code",
   "execution_count": 17,
   "metadata": {},
   "outputs": [
    {
     "data": {
      "text/plain": [
       "['Documentary',\n",
       " 'Drama',\n",
       " 'Comedy',\n",
       " 'Thriller',\n",
       " 'Horror',\n",
       " 'Action',\n",
       " 'Romance',\n",
       " 'Biography',\n",
       " 'Crime',\n",
       " 'Adventure']"
      ]
     },
     "execution_count": 17,
     "metadata": {},
     "output_type": "execute_result"
    }
   ],
   "source": [
    "top10genres"
   ]
  },
  {
   "cell_type": "markdown",
   "metadata": {},
   "source": [
    "# Getting Genre Gross Information"
   ]
  },
  {
   "cell_type": "markdown",
   "metadata": {},
   "source": [
    "I got the total gross info for our top 4 genres\n",
    "in the last 2 decades. This would help us see how they\n",
    "are doing fairly recently."
   ]
  },
  {
   "cell_type": "code",
   "execution_count": 18,
   "metadata": {},
   "outputs": [],
   "source": [
    "top4genres = ['Adventure','Action','Comedy', 'Drama']\n",
    "genre_decade_grossings = { 'Adventure': 0, 'Action':0, 'Comedy': 0, 'Drama': 0}\n",
    "for genre in top4genres:\n",
    "    for year in genre_gross_info[genre]:\n",
    "        if int(year)>1999 and int(year)<2018:\n",
    "            genre_decade_grossings[genre] += genre_gross_info[genre][year]"
   ]
  },
  {
   "cell_type": "markdown",
   "metadata": {},
   "source": [
    "Plotting the top 4 genres total grossing to see\n",
    "how they do compared to one another."
   ]
  },
  {
   "cell_type": "code",
   "execution_count": 19,
   "metadata": {},
   "outputs": [
    {
     "data": {
      "image/png": "[encoded data removed]",
      "text/plain": [
       "<Figure size 432x288 with 1 Axes>"
      ]
     },
     "metadata": {
      "needs_background": "light"
     },
     "output_type": "display_data"
    }
   ],
   "source": [
    "sns.barplot(list(genre_decade_grossings.keys()),\n",
    "            list(genre_decade_grossings.values()))\n",
    "plt.title('Total Grossing Amounts Overall')\n",
    "plt.xlabel('Genre')\n",
    "plt.ylabel('Grossing Amount(Hundred Billions)')\n",
    "plt.savefig('images/top4_genre_gross.png')\n",
    "plt.show()"
   ]
  },
  {
   "cell_type": "code",
   "execution_count": 20,
   "metadata": {},
   "outputs": [
    {
     "data": {
      "image/png": "[encoded data removed]",
      "text/plain": [
       "<Figure size 432x288 with 1 Axes>"
      ]
     },
     "metadata": {
      "needs_background": "light"
     },
     "output_type": "display_data"
    }
   ],
   "source": [
    "#Isolating our other 6 genres.\n",
    "genres6 = ['Documentary', 'Thriller', 'Horror', 'Romance', 'Biography', 'Crime']\n",
    "\n",
    "#plotting our top 4 genres first with color\n",
    "for genre in top4genres:\n",
    "    genre_info = genre_gross_info[genre]\n",
    "    plt.plot(list(genre_info.keys()), list(genre_info.values()))\n",
    "    plt.legend(top4genres)\n",
    "    \n",
    "'''\n",
    "Plotting our other 6 genres with a gray color.\n",
    "This will help us distinguish the difference in\n",
    "how well the genres are doing.\n",
    "'''\n",
    "for genre in genres6:\n",
    "    genre_info = genre_gross_info[genre]\n",
    "    plt.plot(list(genre_info.keys()), list(genre_info.values()), color = 'dimgray')\n",
    "\n",
    "plt.xlabel('Year')\n",
    "plt.ylabel('Total Gross Info(10 Billions)')\n",
    "plt.title('Gross Info per Genre from 2010 - 2018')\n",
    "plt.savefig('images/genre_gross_comparisons.png')\n",
    "plt.show()"
   ]
  },
  {
   "cell_type": "markdown",
   "metadata": {},
   "source": [
    "# Getting Top 5 Studios for our 4 Genres"
   ]
  },
  {
   "cell_type": "markdown",
   "metadata": {},
   "source": [
    "I am making a dataframe for our top 4 genres.\n",
    "This is so we can get the total grossing amounts\n",
    "for each genre. This will also let us customize our\n",
    "graphs for each genre when we plot them."
   ]
  },
  {
   "cell_type": "code",
   "execution_count": 21,
   "metadata": {},
   "outputs": [],
   "source": [
    "adventure_df = new_df[new_df['genres'].str.contains('Adventure')]\n",
    "comedy_df = new_df[new_df['genres'].str.contains('Comedy')] \n",
    "action_df = new_df[new_df['genres'].str.contains('Action')]\n",
    "drama_df = new_df[new_df['genres'].str.contains('Drama')]"
   ]
  },
  {
   "cell_type": "code",
   "execution_count": 22,
   "metadata": {},
   "outputs": [
    {
     "data": {
      "image/png": "[encoded data removed]",
      "text/plain": [
       "<Figure size 432x288 with 1 Axes>"
      ]
     },
     "metadata": {
      "needs_background": "light"
     },
     "output_type": "display_data"
    },
    {
     "name": "stdout",
     "output_type": "stream",
     "text": [
      "{'BV': 34259001369.5, 'Fox': 18549488998.0, 'WB': 12677126000.0, 'Uni.': 11600750019.4, 'Par.': 10764906698.0}\n"
     ]
    }
   ],
   "source": [
    "#get the top 5 studios, plot them, and save our figure.\n",
    "adventure = top5_studios_in_genre(adventure_df)\n",
    "adventurex = list(adventure.values())\n",
    "adventurey = list(adventure.keys())\n",
    "plt.title('Top Grossing Studios in Adventure')\n",
    "sns.barplot(adventurex, adventurey)\n",
    "plt.xlabel('Total Gross(10 Billions)')\n",
    "plt.ylabel('Studios')\n",
    "plt.tight_layout()\n",
    "plt.savefig('images/adventure.png')\n",
    "plt.show()\n",
    "print(adventure)"
   ]
  },
  {
   "cell_type": "code",
   "execution_count": 23,
   "metadata": {},
   "outputs": [
    {
     "data": {
      "image/png": "[encoded data removed]",
      "text/plain": [
       "<Figure size 432x288 with 1 Axes>"
      ]
     },
     "metadata": {
      "needs_background": "light"
     },
     "output_type": "display_data"
    },
    {
     "name": "stdout",
     "output_type": "stream",
     "text": [
      "{'BV': 16538500000.0, 'Uni.': 13541519000.0, 'Fox': 11534176997.0, 'Sony': 9120435997.0, 'WB': 5722352000.0}\n"
     ]
    }
   ],
   "source": [
    "#get the top 5 studios, plot them, and save our figure.\n",
    "comedy = top5_studios_in_genre(comedy_df)\n",
    "comedyx = list(comedy.values())\n",
    "comedyy = list(comedy.keys())\n",
    "plt.title('Top Grossing Studios in Comedy')\n",
    "sns.barplot(comedyx, comedyy)\n",
    "plt.xlabel('Total Gross(10 Billions)')\n",
    "plt.ylabel('Studios')\n",
    "plt.tight_layout()\n",
    "plt.savefig('images/comedy.png')\n",
    "plt.show()\n",
    "print(comedy)"
   ]
  },
  {
   "cell_type": "code",
   "execution_count": 24,
   "metadata": {},
   "outputs": [
    {
     "data": {
      "image/png": "[encoded data removed]",
      "text/plain": [
       "<Figure size 432x288 with 1 Axes>"
      ]
     },
     "metadata": {
      "needs_background": "light"
     },
     "output_type": "display_data"
    },
    {
     "name": "stdout",
     "output_type": "stream",
     "text": [
      "{'BV': 20760401369.5, 'WB': 15199555999.0, 'Fox': 13741389000.0, 'Uni.': 12786200191.4, 'Sony': 10069513499.0}\n"
     ]
    }
   ],
   "source": [
    "#get the top 5 studios, plot them, and save our figure.\n",
    "action = top5_studios_in_genre(action_df)\n",
    "actionx = list(action.values())\n",
    "actiony = list(action.keys())\n",
    "plt.title('Top Grossing Studios in Action')\n",
    "sns.barplot(actionx, actiony)\n",
    "plt.xlabel('Total Gross(10 Billions)')\n",
    "plt.ylabel('Studios')\n",
    "plt.tight_layout()\n",
    "plt.savefig('images/action.png')\n",
    "plt.show()\n",
    "print(action)"
   ]
  },
  {
   "cell_type": "code",
   "execution_count": 25,
   "metadata": {},
   "outputs": [
    {
     "data": {
      "image/png": "[encoded data removed]",
      "text/plain": [
       "<Figure size 432x288 with 1 Axes>"
      ]
     },
     "metadata": {
      "needs_background": "light"
     },
     "output_type": "display_data"
    },
    {
     "name": "stdout",
     "output_type": "stream",
     "text": [
      "{'Uni.': 9394947000.0, 'Fox': 8941222600.0, 'WB': 7967376999.0, 'BV': 5819137000.0, 'Par.': 4851612698.0}\n"
     ]
    }
   ],
   "source": [
    "#get the top 5 studios, plot them, and save our figure.\n",
    "drama = top5_studios_in_genre(drama_df)\n",
    "dramax = list(drama.values())\n",
    "dramay = list(drama.keys())\n",
    "plt.title('Top Grossing Studios in Drama')\n",
    "sns.barplot(dramax, dramay)\n",
    "plt.xlabel('Total Gross(Billions)')\n",
    "plt.ylabel('Studios')\n",
    "plt.tight_layout()\n",
    "plt.savefig('images/drama.png')\n",
    "plt.show()\n",
    "print(drama)"
   ]
  },
  {
   "cell_type": "markdown",
   "metadata": {},
   "source": [
    "# Getting our Top Studios and their Yearly Domestic/Foreign Average Income"
   ]
  },
  {
   "cell_type": "code",
   "execution_count": 26,
   "metadata": {},
   "outputs": [],
   "source": [
    "#all the studios we need to consider\n",
    "top_studios = ['BV', 'Uni.', 'Fox', 'Sony', 'WB', 'Par.']"
   ]
  },
  {
   "cell_type": "markdown",
   "metadata": {},
   "source": [
    "For each studio, we want to get the profit they made\n",
    "from our available information. This will go through\n",
    "each studio, get their numbers for each year, and then\n",
    "put all this information into a dictionary."
   ]
  },
  {
   "cell_type": "code",
   "execution_count": 27,
   "metadata": {},
   "outputs": [],
   "source": [
    "#empty dictionary\n",
    "top_studios_info = {}\n",
    "for studio in top_studios:\n",
    "    #get the relevant information to our studio\n",
    "    df = income_df[income_df['studio'] == studio]\n",
    "    #get the unique years we can get information from\n",
    "    years = (income_df.start_year.unique())\n",
    "    #empty dictionary to store our domestic and foreign profits\n",
    "    profit_info = {}\n",
    "    for year in years:\n",
    "        #get the relevant information for the year\n",
    "        year_df = df[df['start_year']==year]\n",
    "        #calculate domestic and foreign profits\n",
    "        domestic_profit = sum(year_df.domestic_gross_x) - sum(year_df.production_budget)\n",
    "        foreign_profit = sum(year_df.foreign_gross) - sum(year_df.production_budget)\n",
    "        #make year and profits a key:value pair\n",
    "        profit_info[str(year)] = {'domestic':domestic_profit,'foreign':foreign_profit}\n",
    "    top_studios_info[str(studio)] = profit_info"
   ]
  },
  {
   "cell_type": "markdown",
   "metadata": {},
   "source": [
    "I decided to get the domestic and foreign profit averages\n",
    "for each studio. This will show us the average yearly domestic and\n",
    "foreign profit for each studio."
   ]
  },
  {
   "cell_type": "code",
   "execution_count": 28,
   "metadata": {},
   "outputs": [],
   "source": [
    "#setting both averages as different dictionaries\n",
    "domestic_averages = {}\n",
    "foreign_averages = {}\n",
    "\n",
    "for s in top_studios_info:\n",
    "    #keep track of total and the number of years to divide by\n",
    "    domestic_total = 0\n",
    "    foreign_total = 0\n",
    "    n = len(top_studios_info[s])\n",
    "    #get the total and then divide by n to get the average\n",
    "    for y in top_studios_info[s].keys():\n",
    "        #year specific information\n",
    "        needed = top_studios_info[s][y]\n",
    "        domestic_total += needed['domestic']\n",
    "        foreign_total += needed['foreign']\n",
    "        domestic_average = domestic_total/n\n",
    "        foreign_average = foreign_total/n\n",
    "    #make each studio and average a key:value pair\n",
    "    domestic_averages[s] = domestic_average\n",
    "    foreign_averages[s] = foreign_average"
   ]
  },
  {
   "cell_type": "markdown",
   "metadata": {},
   "source": [
    "We will get the domestic and foreign averages now."
   ]
  },
  {
   "cell_type": "code",
   "execution_count": 29,
   "metadata": {},
   "outputs": [],
   "source": [
    "#sort our domestic averages in descending order and print\n",
    "sorted_domestic_averages = {studio: avg for studio, avg in sorted(domestic_averages.items(), \n",
    "                                                    key=lambda item: item[1],\n",
    "                                                    reverse=True)}"
   ]
  },
  {
   "cell_type": "code",
   "execution_count": 30,
   "metadata": {},
   "outputs": [
    {
     "data": {
      "text/plain": [
       "{'Uni.': 617217600.0,\n",
       " 'BV': 523600000.0,\n",
       " 'Sony': 184069999.8,\n",
       " 'WB': 183160000.0,\n",
       " 'Fox': 161329999.8,\n",
       " 'Par.': 155339999.9}"
      ]
     },
     "execution_count": 30,
     "metadata": {},
     "output_type": "execute_result"
    }
   ],
   "source": [
    "sorted_domestic_averages"
   ]
  },
  {
   "cell_type": "code",
   "execution_count": 31,
   "metadata": {},
   "outputs": [],
   "source": [
    "#sort our domestic averages in descending order and print\n",
    "sorted_foreign_averages = {studio: avg for studio, avg in sorted(foreign_averages.items(), \n",
    "                                                   key=lambda item: item[1],\n",
    "                                                   reverse=True)}"
   ]
  },
  {
   "cell_type": "code",
   "execution_count": 32,
   "metadata": {},
   "outputs": [
    {
     "data": {
      "text/plain": [
       "{'BV': 1335123836.95,\n",
       " 'Uni.': 980327119.14,\n",
       " 'Fox': 976453359.9,\n",
       " 'Sony': 596299999.9,\n",
       " 'WB': 565080299.6,\n",
       " 'Par.': 402686699.7}"
      ]
     },
     "execution_count": 32,
     "metadata": {},
     "output_type": "execute_result"
    }
   ],
   "source": [
    "sorted_foreign_averages"
   ]
  },
  {
   "cell_type": "code",
   "execution_count": null,
   "metadata": {},
   "outputs": [],
   "source": []
  }
 ],
 "metadata": {
  "kernelspec": {
   "display_name": "Python 3",
   "language": "python",
   "name": "python3"
  },
  "language_info": {
   "codemirror_mode": {
    "name": "ipython",
    "version": 3
   },
   "file_extension": ".py",
   "mimetype": "text/x-python",
   "name": "python",
   "nbconvert_exporter": "python",
   "pygments_lexer": "ipython3",
   "version": "3.7.4"
  }
 },
 "nbformat": 4,
 "nbformat_minor": 4
}
